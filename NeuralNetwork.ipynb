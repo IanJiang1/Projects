{
 "cells": [
  {
   "cell_type": "markdown",
   "metadata": {},
   "source": [
    "# Neural Network Implementation\n",
    "\n",
    "Here is my neural network implementation. So far it runs back propagation, allowing user to choose the network architecture, activation functions, the value of the regularization parameter and the learning rate. The code uses the same python object created for the Logistic Regression. "
   ]
  },
  {
   "cell_type": "code",
   "execution_count": 1,
   "metadata": {
    "scrolled": true
   },
   "outputs": [
    {
     "ename": "ModuleNotFoundError",
     "evalue": "No module named 'Learn'",
     "output_type": "error",
     "traceback": [
      "\u001b[1;31m---------------------------------------------------------------------------\u001b[0m",
      "\u001b[1;31mModuleNotFoundError\u001b[0m                       Traceback (most recent call last)",
      "\u001b[1;32m<ipython-input-1-fc6d2b51f967>\u001b[0m in \u001b[0;36m<module>\u001b[1;34m()\u001b[0m\n\u001b[1;32m----> 1\u001b[1;33m \u001b[1;32mimport\u001b[0m \u001b[0mLearn\u001b[0m\u001b[1;33m\u001b[0m\u001b[0m\n\u001b[0m\u001b[0;32m      2\u001b[0m \u001b[1;32mimport\u001b[0m \u001b[0mos\u001b[0m\u001b[1;33m\u001b[0m\u001b[0m\n\u001b[0;32m      3\u001b[0m \u001b[0mos\u001b[0m\u001b[1;33m.\u001b[0m\u001b[0mchdir\u001b[0m\u001b[1;33m(\u001b[0m\u001b[1;34m\"Data/ex3\"\u001b[0m\u001b[1;33m)\u001b[0m\u001b[1;33m\u001b[0m\u001b[0m\n\u001b[0;32m      4\u001b[0m \u001b[1;33m\u001b[0m\u001b[0m\n\u001b[0;32m      5\u001b[0m \u001b[1;31m#Importing necessary package as well as loading script\u001b[0m\u001b[1;33m\u001b[0m\u001b[1;33m\u001b[0m\u001b[0m\n",
      "\u001b[1;31mModuleNotFoundError\u001b[0m: No module named 'Learn'"
     ]
    }
   ],
   "source": [
    "import Learn\n",
    "import os\n",
    "os.chdir(\"Data/ex3\")\n",
    "\n",
    "#Importing necessary package as well as loading script\n",
    "import ex3_load as ex3\n",
    "import numpy as np\n",
    "import matplotlib.pyplot as plt\n",
    "import re\n",
    "from subprocess import call\n",
    "import os\n",
    "import pandas as pd\n",
    "import matplotlib.image as img\n",
    "from PIL import Image"
   ]
  },
  {
   "cell_type": "markdown",
   "metadata": {},
   "source": [
    "Below, we instanstiate a NN type object. Specifically, we choose a three layer network (with 10 nodes in layer 1, 5 for 2, and 10 for 3) with linear activation for every layer except the last, where we choose a logistic activation. The learning rate is 1.5 and the regularization is selected at 0.5, to reduce generalization error. We randomly initialize our parameters. "
   ]
  },
  {
   "cell_type": "code",
   "execution_count": 7,
   "metadata": {
    "collapsed": true
   },
   "outputs": [],
   "source": [
    "#Main Script body for EX3 Data Loading\n",
    "x = ex3.ex3_load(\"ex3_imagedata.csv\")\n",
    "y = ex3.ex3_load(\"ex3_labels.csv\")\n",
    "\n",
    "#Instantiating a Logistic Regression type object\n",
    "data = Learn.NN(x, y, 1.5, 0.5, [Learn.Activation(2), Learn.Activation(2), Learn.Activation(2), Learn.Activation(1)])\n",
    "\n",
    "#Randomly initiating thetas\n",
    "thetas = [0.01*theta for theta in data.rand_thetas([10, 5, 10, 10])]\n",
    "\n",
    "#Vectorizing the response variable\n",
    "data.vectorize()"
   ]
  },
  {
   "cell_type": "code",
   "execution_count": 8,
   "metadata": {
    "collapsed": true
   },
   "outputs": [],
   "source": [
    "initthetas = thetas"
   ]
  },
  {
   "cell_type": "markdown",
   "metadata": {},
   "source": [
    "The vectorization operation allows the discrete response input to be vectorized, to more concretely decide the size of the output vector"
   ]
  },
  {
   "cell_type": "code",
   "execution_count": 9,
   "metadata": {},
   "outputs": [
    {
     "data": {
      "text/plain": [
       "array([[0., 0., 0., ..., 0., 0., 1.],\n",
       "       [0., 0., 0., ..., 0., 0., 1.],\n",
       "       [0., 0., 0., ..., 0., 0., 1.],\n",
       "       ...,\n",
       "       [0., 0., 0., ..., 0., 1., 0.],\n",
       "       [0., 0., 0., ..., 0., 1., 0.],\n",
       "       [0., 0., 0., ..., 0., 1., 0.]])"
      ]
     },
     "execution_count": 9,
     "metadata": {},
     "output_type": "execute_result"
    }
   ],
   "source": [
    "data.y"
   ]
  },
  {
   "cell_type": "markdown",
   "metadata": {},
   "source": [
    "The gradDesc function will select initial values of the parameters (randomly created above) and will run until a max_iter number of iterations is reached, or if the cost function dips below a threshold tol"
   ]
  },
  {
   "cell_type": "code",
   "execution_count": 10,
   "metadata": {},
   "outputs": [
    {
     "name": "stdout",
     "output_type": "stream",
     "text": [
      "Running backpropagation and obtaining costs for iteration 0\n",
      "Running backpropagation and obtaining costs for iteration 1\n",
      "Running backpropagation and obtaining costs for iteration 2\n",
      "Running backpropagation and obtaining costs for iteration 3\n",
      "Running backpropagation and obtaining costs for iteration 4\n",
      "Running backpropagation and obtaining costs for iteration 5\n",
      "Running backpropagation and obtaining costs for iteration 6\n",
      "Running backpropagation and obtaining costs for iteration 7\n",
      "Running backpropagation and obtaining costs for iteration 8\n",
      "Running backpropagation and obtaining costs for iteration 9\n",
      "Running backpropagation and obtaining costs for iteration 10\n",
      "Running backpropagation and obtaining costs for iteration 11\n",
      "Running backpropagation and obtaining costs for iteration 12\n",
      "Running backpropagation and obtaining costs for iteration 13\n",
      "Running backpropagation and obtaining costs for iteration 14\n",
      "Running backpropagation and obtaining costs for iteration 15\n",
      "Running backpropagation and obtaining costs for iteration 16\n",
      "Running backpropagation and obtaining costs for iteration 17\n",
      "Running backpropagation and obtaining costs for iteration 18\n",
      "Running backpropagation and obtaining costs for iteration 19\n",
      "Running backpropagation and obtaining costs for iteration 20\n",
      "Running backpropagation and obtaining costs for iteration 21\n",
      "Running backpropagation and obtaining costs for iteration 22\n",
      "Running backpropagation and obtaining costs for iteration 23\n",
      "Running backpropagation and obtaining costs for iteration 24\n",
      "Running backpropagation and obtaining costs for iteration 25\n",
      "Running backpropagation and obtaining costs for iteration 26\n",
      "Running backpropagation and obtaining costs for iteration 27\n",
      "Running backpropagation and obtaining costs for iteration 28\n",
      "Running backpropagation and obtaining costs for iteration 29\n",
      "Running backpropagation and obtaining costs for iteration 30\n",
      "Running backpropagation and obtaining costs for iteration 31\n",
      "Running backpropagation and obtaining costs for iteration 32\n",
      "Running backpropagation and obtaining costs for iteration 33\n",
      "Running backpropagation and obtaining costs for iteration 34\n",
      "Running backpropagation and obtaining costs for iteration 35\n",
      "Running backpropagation and obtaining costs for iteration 36\n",
      "Running backpropagation and obtaining costs for iteration 37\n",
      "Running backpropagation and obtaining costs for iteration 38\n",
      "Running backpropagation and obtaining costs for iteration 39\n",
      "Running backpropagation and obtaining costs for iteration 40\n",
      "Running backpropagation and obtaining costs for iteration 41\n",
      "Running backpropagation and obtaining costs for iteration 42\n",
      "Running backpropagation and obtaining costs for iteration 43\n",
      "Running backpropagation and obtaining costs for iteration 44\n",
      "Running backpropagation and obtaining costs for iteration 45\n",
      "Running backpropagation and obtaining costs for iteration 46\n",
      "Running backpropagation and obtaining costs for iteration 47\n",
      "Running backpropagation and obtaining costs for iteration 48\n",
      "Running backpropagation and obtaining costs for iteration 49\n",
      "Running backpropagation and obtaining costs for iteration 50\n",
      "Running backpropagation and obtaining costs for iteration 51\n",
      "Running backpropagation and obtaining costs for iteration 52\n",
      "Running backpropagation and obtaining costs for iteration 53\n",
      "Running backpropagation and obtaining costs for iteration 54\n",
      "Running backpropagation and obtaining costs for iteration 55\n",
      "Running backpropagation and obtaining costs for iteration 56\n",
      "Running backpropagation and obtaining costs for iteration 57\n",
      "Running backpropagation and obtaining costs for iteration 58\n",
      "Running backpropagation and obtaining costs for iteration 59\n",
      "Running backpropagation and obtaining costs for iteration 60\n",
      "Running backpropagation and obtaining costs for iteration 61\n",
      "Running backpropagation and obtaining costs for iteration 62\n",
      "Running backpropagation and obtaining costs for iteration 63\n",
      "Running backpropagation and obtaining costs for iteration 64\n",
      "Running backpropagation and obtaining costs for iteration 65\n",
      "Running backpropagation and obtaining costs for iteration 66\n",
      "Running backpropagation and obtaining costs for iteration 67\n",
      "Running backpropagation and obtaining costs for iteration 68\n",
      "Running backpropagation and obtaining costs for iteration 69\n",
      "Running backpropagation and obtaining costs for iteration 70\n",
      "Running backpropagation and obtaining costs for iteration 71\n",
      "Running backpropagation and obtaining costs for iteration 72\n",
      "Running backpropagation and obtaining costs for iteration 73\n",
      "Running backpropagation and obtaining costs for iteration 74\n",
      "Running backpropagation and obtaining costs for iteration 75\n",
      "Running backpropagation and obtaining costs for iteration 76\n",
      "Running backpropagation and obtaining costs for iteration 77\n",
      "Running backpropagation and obtaining costs for iteration 78\n",
      "Running backpropagation and obtaining costs for iteration 79\n",
      "Running backpropagation and obtaining costs for iteration 80\n",
      "Running backpropagation and obtaining costs for iteration 81\n",
      "Running backpropagation and obtaining costs for iteration 82\n",
      "Running backpropagation and obtaining costs for iteration 83\n",
      "Running backpropagation and obtaining costs for iteration 84\n",
      "Running backpropagation and obtaining costs for iteration 85\n",
      "Running backpropagation and obtaining costs for iteration 86\n",
      "Running backpropagation and obtaining costs for iteration 87\n",
      "Running backpropagation and obtaining costs for iteration 88\n",
      "Running backpropagation and obtaining costs for iteration 89\n",
      "Running backpropagation and obtaining costs for iteration 90\n",
      "Running backpropagation and obtaining costs for iteration 91\n",
      "Running backpropagation and obtaining costs for iteration 92\n",
      "Running backpropagation and obtaining costs for iteration 93\n",
      "Running backpropagation and obtaining costs for iteration 94\n",
      "Running backpropagation and obtaining costs for iteration 95\n",
      "Running backpropagation and obtaining costs for iteration 96\n",
      "Running backpropagation and obtaining costs for iteration 97\n",
      "Running backpropagation and obtaining costs for iteration 98\n",
      "Running backpropagation and obtaining costs for iteration 99\n",
      "Running backpropagation and obtaining costs for iteration 100\n",
      "Running backpropagation and obtaining costs for iteration 101\n",
      "Running backpropagation and obtaining costs for iteration 102\n",
      "Running backpropagation and obtaining costs for iteration 103\n",
      "Running backpropagation and obtaining costs for iteration 104\n",
      "Running backpropagation and obtaining costs for iteration 105\n",
      "Running backpropagation and obtaining costs for iteration 106\n",
      "Running backpropagation and obtaining costs for iteration 107\n",
      "Running backpropagation and obtaining costs for iteration 108\n",
      "Running backpropagation and obtaining costs for iteration 109\n",
      "Running backpropagation and obtaining costs for iteration 110\n",
      "Running backpropagation and obtaining costs for iteration 111\n",
      "Running backpropagation and obtaining costs for iteration 112\n",
      "Running backpropagation and obtaining costs for iteration 113\n",
      "Running backpropagation and obtaining costs for iteration 114\n",
      "Running backpropagation and obtaining costs for iteration 115\n",
      "Running backpropagation and obtaining costs for iteration 116\n",
      "Running backpropagation and obtaining costs for iteration 117\n",
      "Running backpropagation and obtaining costs for iteration 118\n",
      "Running backpropagation and obtaining costs for iteration 119\n",
      "Running backpropagation and obtaining costs for iteration 120\n",
      "Running backpropagation and obtaining costs for iteration 121\n",
      "Running backpropagation and obtaining costs for iteration 122\n",
      "Running backpropagation and obtaining costs for iteration 123\n",
      "Running backpropagation and obtaining costs for iteration 124\n",
      "Running backpropagation and obtaining costs for iteration 125\n",
      "Running backpropagation and obtaining costs for iteration 126\n",
      "Running backpropagation and obtaining costs for iteration 127\n",
      "Running backpropagation and obtaining costs for iteration 128\n",
      "Running backpropagation and obtaining costs for iteration 129\n",
      "Running backpropagation and obtaining costs for iteration 130\n",
      "Running backpropagation and obtaining costs for iteration 131\n",
      "Running backpropagation and obtaining costs for iteration 132\n",
      "Running backpropagation and obtaining costs for iteration 133\n"
     ]
    },
    {
     "name": "stdout",
     "output_type": "stream",
     "text": [
      "Running backpropagation and obtaining costs for iteration 134\n",
      "Running backpropagation and obtaining costs for iteration 135\n",
      "Running backpropagation and obtaining costs for iteration 136\n",
      "Running backpropagation and obtaining costs for iteration 137\n",
      "Running backpropagation and obtaining costs for iteration 138\n",
      "Running backpropagation and obtaining costs for iteration 139\n",
      "Running backpropagation and obtaining costs for iteration 140\n",
      "Running backpropagation and obtaining costs for iteration 141\n",
      "Running backpropagation and obtaining costs for iteration 142\n",
      "Running backpropagation and obtaining costs for iteration 143\n",
      "Running backpropagation and obtaining costs for iteration 144\n",
      "Running backpropagation and obtaining costs for iteration 145\n",
      "Running backpropagation and obtaining costs for iteration 146\n",
      "Running backpropagation and obtaining costs for iteration 147\n",
      "Running backpropagation and obtaining costs for iteration 148\n",
      "Running backpropagation and obtaining costs for iteration 149\n",
      "Running backpropagation and obtaining costs for iteration 150\n",
      "Running backpropagation and obtaining costs for iteration 151\n",
      "Running backpropagation and obtaining costs for iteration 152\n",
      "Running backpropagation and obtaining costs for iteration 153\n",
      "Running backpropagation and obtaining costs for iteration 154\n",
      "Running backpropagation and obtaining costs for iteration 155\n",
      "Running backpropagation and obtaining costs for iteration 156\n",
      "Running backpropagation and obtaining costs for iteration 157\n",
      "Running backpropagation and obtaining costs for iteration 158\n",
      "Running backpropagation and obtaining costs for iteration 159\n",
      "Running backpropagation and obtaining costs for iteration 160\n",
      "Running backpropagation and obtaining costs for iteration 161\n",
      "Running backpropagation and obtaining costs for iteration 162\n",
      "Running backpropagation and obtaining costs for iteration 163\n",
      "Running backpropagation and obtaining costs for iteration 164\n",
      "Running backpropagation and obtaining costs for iteration 165\n",
      "Running backpropagation and obtaining costs for iteration 166\n",
      "Running backpropagation and obtaining costs for iteration 167\n",
      "Running backpropagation and obtaining costs for iteration 168\n",
      "Running backpropagation and obtaining costs for iteration 169\n",
      "Running backpropagation and obtaining costs for iteration 170\n",
      "Running backpropagation and obtaining costs for iteration 171\n",
      "Running backpropagation and obtaining costs for iteration 172\n",
      "Running backpropagation and obtaining costs for iteration 173\n",
      "Running backpropagation and obtaining costs for iteration 174\n",
      "Running backpropagation and obtaining costs for iteration 175\n",
      "Running backpropagation and obtaining costs for iteration 176\n",
      "Running backpropagation and obtaining costs for iteration 177\n",
      "Running backpropagation and obtaining costs for iteration 178\n",
      "Running backpropagation and obtaining costs for iteration 179\n",
      "Running backpropagation and obtaining costs for iteration 180\n",
      "Running backpropagation and obtaining costs for iteration 181\n",
      "Running backpropagation and obtaining costs for iteration 182\n",
      "Running backpropagation and obtaining costs for iteration 183\n",
      "Running backpropagation and obtaining costs for iteration 184\n",
      "Running backpropagation and obtaining costs for iteration 185\n",
      "Running backpropagation and obtaining costs for iteration 186\n",
      "Running backpropagation and obtaining costs for iteration 187\n",
      "Running backpropagation and obtaining costs for iteration 188\n",
      "Running backpropagation and obtaining costs for iteration 189\n",
      "Running backpropagation and obtaining costs for iteration 190\n",
      "Running backpropagation and obtaining costs for iteration 191\n",
      "Running backpropagation and obtaining costs for iteration 192\n",
      "Running backpropagation and obtaining costs for iteration 193\n",
      "Running backpropagation and obtaining costs for iteration 194\n",
      "Running backpropagation and obtaining costs for iteration 195\n",
      "Running backpropagation and obtaining costs for iteration 196\n",
      "Running backpropagation and obtaining costs for iteration 197\n",
      "Running backpropagation and obtaining costs for iteration 198\n",
      "Running backpropagation and obtaining costs for iteration 199\n",
      "Running backpropagation and obtaining costs for iteration 200\n",
      "Running backpropagation and obtaining costs for iteration 201\n",
      "Running backpropagation and obtaining costs for iteration 202\n",
      "Running backpropagation and obtaining costs for iteration 203\n",
      "Running backpropagation and obtaining costs for iteration 204\n",
      "Running backpropagation and obtaining costs for iteration 205\n",
      "Running backpropagation and obtaining costs for iteration 206\n",
      "Running backpropagation and obtaining costs for iteration 207\n",
      "Running backpropagation and obtaining costs for iteration 208\n",
      "Running backpropagation and obtaining costs for iteration 209\n",
      "Running backpropagation and obtaining costs for iteration 210\n",
      "Running backpropagation and obtaining costs for iteration 211\n",
      "Running backpropagation and obtaining costs for iteration 212\n",
      "Running backpropagation and obtaining costs for iteration 213\n",
      "Running backpropagation and obtaining costs for iteration 214\n",
      "Running backpropagation and obtaining costs for iteration 215\n",
      "Running backpropagation and obtaining costs for iteration 216\n",
      "Running backpropagation and obtaining costs for iteration 217\n",
      "Running backpropagation and obtaining costs for iteration 218\n",
      "Running backpropagation and obtaining costs for iteration 219\n",
      "Running backpropagation and obtaining costs for iteration 220\n",
      "Running backpropagation and obtaining costs for iteration 221\n",
      "Running backpropagation and obtaining costs for iteration 222\n",
      "Running backpropagation and obtaining costs for iteration 223\n",
      "Running backpropagation and obtaining costs for iteration 224\n",
      "Running backpropagation and obtaining costs for iteration 225\n",
      "Running backpropagation and obtaining costs for iteration 226\n",
      "Running backpropagation and obtaining costs for iteration 227\n",
      "Running backpropagation and obtaining costs for iteration 228\n",
      "Running backpropagation and obtaining costs for iteration 229\n",
      "Running backpropagation and obtaining costs for iteration 230\n",
      "Running backpropagation and obtaining costs for iteration 231\n",
      "Running backpropagation and obtaining costs for iteration 232\n",
      "Running backpropagation and obtaining costs for iteration 233\n",
      "Running backpropagation and obtaining costs for iteration 234\n",
      "Running backpropagation and obtaining costs for iteration 235\n",
      "Running backpropagation and obtaining costs for iteration 236\n",
      "Running backpropagation and obtaining costs for iteration 237\n",
      "Running backpropagation and obtaining costs for iteration 238\n",
      "Running backpropagation and obtaining costs for iteration 239\n",
      "Running backpropagation and obtaining costs for iteration 240\n",
      "Running backpropagation and obtaining costs for iteration 241\n",
      "Running backpropagation and obtaining costs for iteration 242\n",
      "Running backpropagation and obtaining costs for iteration 243\n",
      "Running backpropagation and obtaining costs for iteration 244\n",
      "Running backpropagation and obtaining costs for iteration 245\n",
      "Running backpropagation and obtaining costs for iteration 246\n",
      "Running backpropagation and obtaining costs for iteration 247\n",
      "Running backpropagation and obtaining costs for iteration 248\n",
      "Running backpropagation and obtaining costs for iteration 249\n",
      "Running backpropagation and obtaining costs for iteration 250\n"
     ]
    }
   ],
   "source": [
    "new_thetas, costs = data.gradDesc(initthetas, 250, 0.01)"
   ]
  },
  {
   "cell_type": "markdown",
   "metadata": {},
   "source": [
    "Below is the value of the cost over iteration number"
   ]
  },
  {
   "cell_type": "code",
   "execution_count": 11,
   "metadata": {},
   "outputs": [
    {
     "data": {
      "image/png": "[encoded data removed]",
      "text/plain": [
       "<matplotlib.figure.Figure at 0x7f51e83a24e0>"
      ]
     },
     "metadata": {},
     "output_type": "display_data"
    }
   ],
   "source": [
    "plt.plot(costs);plt.show()"
   ]
  },
  {
   "cell_type": "markdown",
   "metadata": {},
   "source": [
    "If we were comfortable with our trained model, we could use it to run predictions on test data. Below we implement the forward propagation of our trained network. The first ouptut are the activations for each layer and are omitted in this case (only used for backprop). "
   ]
  },
  {
   "cell_type": "code",
   "execution_count": 13,
   "metadata": {
    "collapsed": true
   },
   "outputs": [],
   "source": [
    "_, h = data.forward1(new_thetas, bias=False)"
   ]
  },
  {
   "cell_type": "markdown",
   "metadata": {},
   "source": [
    "Of course, hyperparameters will still have to be tuned for the problem at hand. \n",
    "Future directions see me adding an auto-tuner to the current object. Then we're in the money. "
   ]
  }
 ],
 "metadata": {
  "kernelspec": {
   "display_name": "Python 3",
   "language": "python",
   "name": "python3"
  },
  "language_info": {
   "codemirror_mode": {
    "name": "ipython",
    "version": 3
   },
   "file_extension": ".py",
   "mimetype": "text/x-python",
   "name": "python",
   "nbconvert_exporter": "python",
   "pygments_lexer": "ipython3",
   "version": "3.6.3"
  }
 },
 "nbformat": 4,
 "nbformat_minor": 2
}
