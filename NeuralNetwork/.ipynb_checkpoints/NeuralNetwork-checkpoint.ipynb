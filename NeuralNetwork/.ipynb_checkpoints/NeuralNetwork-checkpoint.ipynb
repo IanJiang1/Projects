{
 "cells": [
  {
   "cell_type": "markdown",
   "metadata": {},
   "source": [
    "\n",
    "# Neural Network Implementation\n",
    "\n",
    "Here is my neural network implementation. So far it runs back propagation, allowing user to choose the network architecture, activation functions, the value of the regularization parameter and the learning rate. The code uses the same python object created for the Logistic Regression. "
   ]
  },
  {
   "cell_type": "code",
   "execution_count": 7,
   "metadata": {
    "scrolled": true
   },
   "outputs": [
    {
     "ename": "FileNotFoundError",
     "evalue": "[WinError 3] The system cannot find the path specified: 'Data/ex3'",
     "output_type": "error",
     "traceback": [
      "\u001b[1;31m---------------------------------------------------------------------------\u001b[0m",
      "\u001b[1;31mFileNotFoundError\u001b[0m                         Traceback (most recent call last)",
      "\u001b[1;32m<ipython-input-7-fc6d2b51f967>\u001b[0m in \u001b[0;36m<module>\u001b[1;34m()\u001b[0m\n\u001b[0;32m      1\u001b[0m \u001b[1;32mimport\u001b[0m \u001b[0mLearn\u001b[0m\u001b[1;33m\u001b[0m\u001b[0m\n\u001b[0;32m      2\u001b[0m \u001b[1;32mimport\u001b[0m \u001b[0mos\u001b[0m\u001b[1;33m\u001b[0m\u001b[0m\n\u001b[1;32m----> 3\u001b[1;33m \u001b[0mos\u001b[0m\u001b[1;33m.\u001b[0m\u001b[0mchdir\u001b[0m\u001b[1;33m(\u001b[0m\u001b[1;34m\"Data/ex3\"\u001b[0m\u001b[1;33m)\u001b[0m\u001b[1;33m\u001b[0m\u001b[0m\n\u001b[0m\u001b[0;32m      4\u001b[0m \u001b[1;33m\u001b[0m\u001b[0m\n\u001b[0;32m      5\u001b[0m \u001b[1;31m#Importing necessary package as well as loading script\u001b[0m\u001b[1;33m\u001b[0m\u001b[1;33m\u001b[0m\u001b[0m\n",
      "\u001b[1;31mFileNotFoundError\u001b[0m: [WinError 3] The system cannot find the path specified: 'Data/ex3'"
     ]
    }
   ],
   "source": [
    "import Learn\n",
    "import os\n",
    "os.chdir(\"Data/ex3\")\n",
    "\n",
    "#Importing necessary package as well as loading script\n",
    "import ex3_load as ex3\n",
    "import numpy as np\n",
    "import matplotlib.pyplot as plt\n",
    "import re\n",
    "from subprocess import call\n",
    "import os\n",
    "import pandas as pd\n",
    "import matplotlib.image as img\n",
    "from PIL import Image"
   ]
  },
  {
   "cell_type": "markdown",
   "metadata": {},
   "source": [
    "Below, we instanstiate a NN type object. Specifically, we choose a three layer network (with 10 nodes in layer 1, 5 for 2, and 10 for 3) with linear activation for every layer except the last, where we choose softmax activation. The cost in this case is chosen to be the cross-entropy. The learning rate is 10.5 and the regularization is selected at 0.5, to reduce generalization error. We randomly initialize our parameters. "
   ]
  },
  {
   "cell_type": "code",
   "execution_count": 35,
   "metadata": {
    "collapsed": true
   },
   "outputs": [],
   "source": [
    "#Main Script body for EX3 Data Loading\n",
    "x = ex3.ex3_load(\"ex3_imagedata.csv\")\n",
    "y = ex3.ex3_load(\"ex3_labels.csv\")\n",
    "\n",
    "#Instantiating a Logistic Regression type object\n",
    "data = Learn.NN(x, y, Learn.Cost(2), 5.0, 0.0001, [Learn.Activation(2, 1.0), Learn.Activation(2, 1.0), Learn.Activation(2, 1.0), Learn.Activation(4)])\n",
    "\n",
    "#Randomly initiating thetas\n",
    "thetas = [0.01*theta for theta in data.rand_thetas([10, 5, 10, 10])]\n",
    "\n",
    "#Vectorizing the response variable\n",
    "data.vectorize()\n",
    "\n",
    "# Normalizing data\n",
    "data.normalize(1.0)"
   ]
  },
  {
   "cell_type": "code",
   "execution_count": 36,
   "metadata": {},
   "outputs": [
    {
     "data": {
      "image/png": "[encoded data removed]",
      "text/plain": [
       "<Figure size 432x288 with 1 Axes>"
      ]
     },
     "metadata": {},
     "output_type": "display_data"
    }
   ],
   "source": [
    "plt.imshow(data.x[0].reshape(20, 20));plt.show()"
   ]
  },
  {
   "cell_type": "code",
   "execution_count": 37,
   "metadata": {},
   "outputs": [
    {
     "data": {
      "image/png": "[encoded data removed]",
      "text/plain": [
       "<Figure size 432x288 with 1 Axes>"
      ]
     },
     "metadata": {},
     "output_type": "display_data"
    }
   ],
   "source": [
    "plt.imshow(data.x[10].reshape(20, 20));plt.show()"
   ]
  },
  {
   "cell_type": "code",
   "execution_count": 38,
   "metadata": {
    "collapsed": true
   },
   "outputs": [],
   "source": [
    "initthetas = thetas"
   ]
  },
  {
   "cell_type": "markdown",
   "metadata": {},
   "source": [
    "The vectorization operation allows the discrete response input to be vectorized (one-hot encoding), to more concretely decide the size of the output vector"
   ]
  },
  {
   "cell_type": "code",
   "execution_count": 39,
   "metadata": {},
   "outputs": [
    {
     "data": {
      "text/plain": [
       "array([[ 0.,  0.,  0., ...,  0.,  0.,  1.],\n",
       "       [ 0.,  0.,  0., ...,  0.,  0.,  1.],\n",
       "       [ 0.,  0.,  0., ...,  0.,  0.,  1.],\n",
       "       ..., \n",
       "       [ 0.,  0.,  0., ...,  0.,  1.,  0.],\n",
       "       [ 0.,  0.,  0., ...,  0.,  1.,  0.],\n",
       "       [ 0.,  0.,  0., ...,  0.,  1.,  0.]])"
      ]
     },
     "execution_count": 39,
     "metadata": {},
     "output_type": "execute_result"
    }
   ],
   "source": [
    "data.y"
   ]
  },
  {
   "cell_type": "markdown",
   "metadata": {},
   "source": [
    "The gradDesc function will select initial values of the parameters (randomly created above) and will run until a max_iter number of iterations is reached, or if the cost function dips below a threshold tol"
   ]
  },
  {
   "cell_type": "code",
   "execution_count": 21,
   "metadata": {
    "scrolled": true
   },
   "outputs": [
    {
     "ename": "KeyboardInterrupt",
     "evalue": "",
     "output_type": "error",
     "traceback": [
      "\u001b[1;31m---------------------------------------------------------------------------\u001b[0m",
      "\u001b[1;31mKeyboardInterrupt\u001b[0m                         Traceback (most recent call last)",
      "\u001b[1;32m<ipython-input-21-b55229b993c9>\u001b[0m in \u001b[0;36m<module>\u001b[1;34m()\u001b[0m\n\u001b[1;32m----> 1\u001b[1;33m \u001b[0mnew_thetas\u001b[0m\u001b[1;33m,\u001b[0m \u001b[0mcosts\u001b[0m \u001b[1;33m=\u001b[0m \u001b[0mdata\u001b[0m\u001b[1;33m.\u001b[0m\u001b[0mgradDesc\u001b[0m\u001b[1;33m(\u001b[0m\u001b[0minitthetas\u001b[0m\u001b[1;33m,\u001b[0m \u001b[1;36m500\u001b[0m\u001b[1;33m,\u001b[0m \u001b[1;36m0.05\u001b[0m\u001b[1;33m)\u001b[0m\u001b[1;33m\u001b[0m\u001b[0m\n\u001b[0m",
      "\u001b[1;32m~\\Projects\\NeuralNetwork\\Learn.py\u001b[0m in \u001b[0;36mgradDesc\u001b[1;34m(self, initthetas, max_iter, tol, bias, verbose)\u001b[0m\n\u001b[0;32m    421\u001b[0m              \u001b[1;32mif\u001b[0m \u001b[0mverbose\u001b[0m\u001b[1;33m:\u001b[0m\u001b[1;33m\u001b[0m\u001b[0m\n\u001b[0;32m    422\u001b[0m                  \u001b[0mprint\u001b[0m\u001b[1;33m(\u001b[0m\u001b[1;34m\"Running backpropagation and obtaining costs for iteration \"\u001b[0m \u001b[1;33m+\u001b[0m \u001b[0mstr\u001b[0m\u001b[1;33m(\u001b[0m\u001b[0mcount\u001b[0m\u001b[1;33m)\u001b[0m\u001b[1;33m)\u001b[0m\u001b[1;33m\u001b[0m\u001b[0m\n\u001b[1;32m--> 423\u001b[1;33m              \u001b[0mthetas\u001b[0m \u001b[1;33m=\u001b[0m \u001b[0mself\u001b[0m\u001b[1;33m.\u001b[0m\u001b[0mgradDesc_iter\u001b[0m\u001b[1;33m(\u001b[0m\u001b[0mthetas\u001b[0m\u001b[1;33m)\u001b[0m\u001b[1;33m\u001b[0m\u001b[0m\n\u001b[0m\u001b[0;32m    424\u001b[0m              \u001b[0m_\u001b[0m\u001b[1;33m,\u001b[0m \u001b[0mh\u001b[0m \u001b[1;33m=\u001b[0m \u001b[0mself\u001b[0m\u001b[1;33m.\u001b[0m\u001b[0mforward1\u001b[0m\u001b[1;33m(\u001b[0m\u001b[0mself\u001b[0m\u001b[1;33m.\u001b[0m\u001b[0mx\u001b[0m\u001b[1;33m,\u001b[0m \u001b[0mthetas\u001b[0m\u001b[1;33m,\u001b[0m \u001b[0mbias\u001b[0m\u001b[1;33m=\u001b[0m\u001b[0mbias\u001b[0m\u001b[1;33m)\u001b[0m\u001b[1;33m\u001b[0m\u001b[0m\n\u001b[0;32m    425\u001b[0m              \u001b[0mcost\u001b[0m \u001b[1;33m=\u001b[0m \u001b[1;33m(\u001b[0m\u001b[1;36m1\u001b[0m\u001b[1;33m/\u001b[0m\u001b[0mself\u001b[0m\u001b[1;33m.\u001b[0m\u001b[0mnumobs\u001b[0m\u001b[1;33m)\u001b[0m\u001b[1;33m*\u001b[0m\u001b[0mnp\u001b[0m\u001b[1;33m.\u001b[0m\u001b[0msum\u001b[0m\u001b[1;33m(\u001b[0m\u001b[0mself\u001b[0m\u001b[1;33m.\u001b[0m\u001b[0mcost\u001b[0m\u001b[1;33m.\u001b[0m\u001b[0mf\u001b[0m\u001b[1;33m(\u001b[0m\u001b[0mself\u001b[0m\u001b[1;33m.\u001b[0m\u001b[0my\u001b[0m\u001b[1;33m,\u001b[0m \u001b[0mh\u001b[0m\u001b[1;33m)\u001b[0m\u001b[1;33m)\u001b[0m\u001b[1;33m\u001b[0m\u001b[0m\n",
      "\u001b[1;32m~\\Projects\\NeuralNetwork\\Learn.py\u001b[0m in \u001b[0;36mgradDesc_iter\u001b[1;34m(self, initthetas, bias)\u001b[0m\n\u001b[0;32m    397\u001b[0m     \u001b[1;32mdef\u001b[0m \u001b[0mgradDesc_iter\u001b[0m\u001b[1;33m(\u001b[0m\u001b[0mself\u001b[0m\u001b[1;33m,\u001b[0m \u001b[0minitthetas\u001b[0m\u001b[1;33m,\u001b[0m \u001b[0mbias\u001b[0m\u001b[1;33m=\u001b[0m\u001b[1;32mFalse\u001b[0m\u001b[1;33m)\u001b[0m\u001b[1;33m:\u001b[0m\u001b[1;33m\u001b[0m\u001b[0m\n\u001b[0;32m    398\u001b[0m \u001b[1;33m\u001b[0m\u001b[0m\n\u001b[1;32m--> 399\u001b[1;33m         \u001b[0mDeltas\u001b[0m \u001b[1;33m=\u001b[0m \u001b[0mself\u001b[0m\u001b[1;33m.\u001b[0m\u001b[0mbackprop1\u001b[0m\u001b[1;33m(\u001b[0m\u001b[0minitthetas\u001b[0m\u001b[1;33m,\u001b[0m \u001b[0mbias\u001b[0m\u001b[1;33m=\u001b[0m\u001b[0mbias\u001b[0m\u001b[1;33m)\u001b[0m\u001b[1;33m\u001b[0m\u001b[0m\n\u001b[0m\u001b[0;32m    400\u001b[0m         \u001b[0mnumlayers\u001b[0m \u001b[1;33m=\u001b[0m \u001b[0mlen\u001b[0m\u001b[1;33m(\u001b[0m\u001b[0mDeltas\u001b[0m\u001b[1;33m)\u001b[0m\u001b[1;33m\u001b[0m\u001b[0m\n\u001b[0;32m    401\u001b[0m \u001b[1;33m\u001b[0m\u001b[0m\n",
      "\u001b[1;32m~\\Projects\\NeuralNetwork\\Learn.py\u001b[0m in \u001b[0;36mbackprop1\u001b[1;34m(self, thetas, bias)\u001b[0m\n\u001b[0;32m    336\u001b[0m         \u001b[0mnumlayers\u001b[0m \u001b[1;33m=\u001b[0m \u001b[0mlen\u001b[0m\u001b[1;33m(\u001b[0m\u001b[0mthetas\u001b[0m\u001b[1;33m)\u001b[0m\u001b[1;33m\u001b[0m\u001b[0m\n\u001b[0;32m    337\u001b[0m         \u001b[1;32mfor\u001b[0m \u001b[0mi\u001b[0m \u001b[1;32min\u001b[0m \u001b[0mrange\u001b[0m\u001b[1;33m(\u001b[0m\u001b[0mself\u001b[0m\u001b[1;33m.\u001b[0m\u001b[0mnumobs\u001b[0m\u001b[1;33m)\u001b[0m\u001b[1;33m:\u001b[0m\u001b[1;33m\u001b[0m\u001b[0m\n\u001b[1;32m--> 338\u001b[1;33m             \u001b[0mD\u001b[0m \u001b[1;33m=\u001b[0m \u001b[0mself\u001b[0m\u001b[1;33m.\u001b[0m\u001b[0mbackprop_onesamp1\u001b[0m\u001b[1;33m(\u001b[0m\u001b[1;33m(\u001b[0m\u001b[0mself\u001b[0m\u001b[1;33m.\u001b[0m\u001b[0mx\u001b[0m\u001b[1;33m[\u001b[0m\u001b[0mi\u001b[0m\u001b[1;33m]\u001b[0m\u001b[1;33m,\u001b[0m \u001b[0mself\u001b[0m\u001b[1;33m.\u001b[0m\u001b[0my\u001b[0m\u001b[1;33m[\u001b[0m\u001b[0mi\u001b[0m\u001b[1;33m]\u001b[0m\u001b[1;33m)\u001b[0m\u001b[1;33m,\u001b[0m \u001b[0mthetas\u001b[0m\u001b[1;33m,\u001b[0m \u001b[0mbias\u001b[0m\u001b[1;33m=\u001b[0m\u001b[0mbias\u001b[0m\u001b[1;33m)\u001b[0m\u001b[1;33m\u001b[0m\u001b[0m\n\u001b[0m\u001b[0;32m    339\u001b[0m             \u001b[0mDelta\u001b[0m \u001b[1;33m=\u001b[0m \u001b[1;33m[\u001b[0m\u001b[0mDelta\u001b[0m\u001b[1;33m[\u001b[0m\u001b[0ml\u001b[0m\u001b[1;33m]\u001b[0m \u001b[1;33m+\u001b[0m \u001b[0mD\u001b[0m\u001b[1;33m[\u001b[0m\u001b[0ml\u001b[0m\u001b[1;33m]\u001b[0m \u001b[1;32mfor\u001b[0m \u001b[0ml\u001b[0m \u001b[1;32min\u001b[0m \u001b[0mrange\u001b[0m\u001b[1;33m(\u001b[0m\u001b[0mnumlayers\u001b[0m\u001b[1;33m)\u001b[0m\u001b[1;33m]\u001b[0m\u001b[1;33m\u001b[0m\u001b[0m\n\u001b[0;32m    340\u001b[0m \u001b[1;33m\u001b[0m\u001b[0m\n",
      "\u001b[1;32m~\\Projects\\NeuralNetwork\\Learn.py\u001b[0m in \u001b[0;36mbackprop_onesamp1\u001b[1;34m(self, sample, thetas, bias)\u001b[0m\n\u001b[0;32m    320\u001b[0m \u001b[1;33m\u001b[0m\u001b[0m\n\u001b[0;32m    321\u001b[0m         \u001b[1;31m#Initializing gradient increment for sample\u001b[0m\u001b[1;33m\u001b[0m\u001b[1;33m\u001b[0m\u001b[0m\n\u001b[1;32m--> 322\u001b[1;33m         \u001b[0mDelta\u001b[0m \u001b[1;33m=\u001b[0m \u001b[1;33m[\u001b[0m\u001b[0mnp\u001b[0m\u001b[1;33m.\u001b[0m\u001b[0mzeros\u001b[0m\u001b[1;33m(\u001b[0m\u001b[0mtheta\u001b[0m\u001b[1;33m.\u001b[0m\u001b[0mshape\u001b[0m\u001b[1;33m)\u001b[0m \u001b[1;32mfor\u001b[0m \u001b[0mtheta\u001b[0m \u001b[1;32min\u001b[0m \u001b[0mthetas\u001b[0m\u001b[1;33m]\u001b[0m\u001b[1;33m\u001b[0m\u001b[0m\n\u001b[0m\u001b[0;32m    323\u001b[0m \u001b[1;33m\u001b[0m\u001b[0m\n\u001b[0;32m    324\u001b[0m         \u001b[1;31m#Backpropagation\u001b[0m\u001b[1;33m\u001b[0m\u001b[1;33m\u001b[0m\u001b[0m\n",
      "\u001b[1;32m~\\Projects\\NeuralNetwork\\Learn.py\u001b[0m in \u001b[0;36m<listcomp>\u001b[1;34m(.0)\u001b[0m\n\u001b[0;32m    320\u001b[0m \u001b[1;33m\u001b[0m\u001b[0m\n\u001b[0;32m    321\u001b[0m         \u001b[1;31m#Initializing gradient increment for sample\u001b[0m\u001b[1;33m\u001b[0m\u001b[1;33m\u001b[0m\u001b[0m\n\u001b[1;32m--> 322\u001b[1;33m         \u001b[0mDelta\u001b[0m \u001b[1;33m=\u001b[0m \u001b[1;33m[\u001b[0m\u001b[0mnp\u001b[0m\u001b[1;33m.\u001b[0m\u001b[0mzeros\u001b[0m\u001b[1;33m(\u001b[0m\u001b[0mtheta\u001b[0m\u001b[1;33m.\u001b[0m\u001b[0mshape\u001b[0m\u001b[1;33m)\u001b[0m \u001b[1;32mfor\u001b[0m \u001b[0mtheta\u001b[0m \u001b[1;32min\u001b[0m \u001b[0mthetas\u001b[0m\u001b[1;33m]\u001b[0m\u001b[1;33m\u001b[0m\u001b[0m\n\u001b[0m\u001b[0;32m    323\u001b[0m \u001b[1;33m\u001b[0m\u001b[0m\n\u001b[0;32m    324\u001b[0m         \u001b[1;31m#Backpropagation\u001b[0m\u001b[1;33m\u001b[0m\u001b[1;33m\u001b[0m\u001b[0m\n",
      "\u001b[1;31mKeyboardInterrupt\u001b[0m: "
     ]
    }
   ],
   "source": [
    "new_thetas, costs = data.gradDesc(initthetas, 500, 0.05)"
   ]
  },
  {
   "cell_type": "markdown",
   "metadata": {},
   "source": [
    "Below is the value of the cost over iteration number"
   ]
  },
  {
   "cell_type": "code",
   "execution_count": 67,
   "metadata": {
    "scrolled": false
   },
   "outputs": [
    {
     "data": {
      "image/png": "[encoded data removed]",
      "text/plain": [
       "<Figure size 432x288 with 1 Axes>"
      ]
     },
     "metadata": {},
     "output_type": "display_data"
    }
   ],
   "source": [
    "plt.plot(costs);plt.show()"
   ]
  },
  {
   "cell_type": "markdown",
   "metadata": {},
   "source": [
    "If we were comfortable with our trained model, we could use it to run predictions on test data. Below we implement the forward propagation of our trained network. The first ouptut are the activations for each layer and are omitted in this case (only used for backprop). "
   ]
  },
  {
   "cell_type": "code",
   "execution_count": 69,
   "metadata": {},
   "outputs": [],
   "source": [
    "_, h = data.forward1(data.x, new_thetas, bias=False)"
   ]
  },
  {
   "cell_type": "markdown",
   "metadata": {},
   "source": [
    "Of course, hyperparameters will still have to be tuned for the problem at hand. \n",
    "Future directions see me adding an auto-tuner to the current object. Then we're in the money. "
   ]
  },
  {
   "cell_type": "markdown",
   "metadata": {},
   "source": [
    "Running stochastic gradient descent on a one percent sample"
   ]
  },
  {
   "cell_type": "code",
   "execution_count": 37,
   "metadata": {},
   "outputs": [
    {
     "name": "stdout",
     "output_type": "stream",
     "text": [
      "x shape: (50, 400)\n",
      "y shape: (50, 10)\n",
      "Running backpropagation and obtaining costs for iteration 0\n",
      "Running backpropagation and obtaining costs for iteration 1\n",
      "Running backpropagation and obtaining costs for iteration 2\n",
      "Running backpropagation and obtaining costs for iteration 3\n",
      "Running backpropagation and obtaining costs for iteration 4\n",
      "Running backpropagation and obtaining costs for iteration 5\n",
      "Running backpropagation and obtaining costs for iteration 6\n",
      "Running backpropagation and obtaining costs for iteration 7\n",
      "Running backpropagation and obtaining costs for iteration 8\n",
      "Running backpropagation and obtaining costs for iteration 9\n",
      "Running backpropagation and obtaining costs for iteration 10\n",
      "Running backpropagation and obtaining costs for iteration 11\n",
      "Running backpropagation and obtaining costs for iteration 12\n",
      "Running backpropagation and obtaining costs for iteration 13\n",
      "Running backpropagation and obtaining costs for iteration 14\n",
      "Running backpropagation and obtaining costs for iteration 15\n",
      "Running backpropagation and obtaining costs for iteration 16\n",
      "Running backpropagation and obtaining costs for iteration 17\n",
      "Running backpropagation and obtaining costs for iteration 18\n",
      "Running backpropagation and obtaining costs for iteration 19\n",
      "Running backpropagation and obtaining costs for iteration 20\n",
      "Running backpropagation and obtaining costs for iteration 21\n",
      "Running backpropagation and obtaining costs for iteration 22\n",
      "Running backpropagation and obtaining costs for iteration 23\n",
      "Running backpropagation and obtaining costs for iteration 24\n",
      "Running backpropagation and obtaining costs for iteration 25\n",
      "Running backpropagation and obtaining costs for iteration 26\n",
      "Running backpropagation and obtaining costs for iteration 27\n",
      "Running backpropagation and obtaining costs for iteration 28\n",
      "Running backpropagation and obtaining costs for iteration 29\n",
      "Running backpropagation and obtaining costs for iteration 30\n",
      "Running backpropagation and obtaining costs for iteration 31\n",
      "Running backpropagation and obtaining costs for iteration 32\n",
      "Running backpropagation and obtaining costs for iteration 33\n",
      "Running backpropagation and obtaining costs for iteration 34\n",
      "Running backpropagation and obtaining costs for iteration 35\n",
      "Running backpropagation and obtaining costs for iteration 36\n",
      "Running backpropagation and obtaining costs for iteration 37\n",
      "Running backpropagation and obtaining costs for iteration 38\n",
      "Running backpropagation and obtaining costs for iteration 39\n",
      "Running backpropagation and obtaining costs for iteration 40\n",
      "Running backpropagation and obtaining costs for iteration 41\n",
      "Running backpropagation and obtaining costs for iteration 42\n",
      "Running backpropagation and obtaining costs for iteration 43\n",
      "Running backpropagation and obtaining costs for iteration 44\n",
      "Running backpropagation and obtaining costs for iteration 45\n",
      "Running backpropagation and obtaining costs for iteration 46\n",
      "Running backpropagation and obtaining costs for iteration 47\n",
      "Running backpropagation and obtaining costs for iteration 48\n",
      "Running backpropagation and obtaining costs for iteration 49\n",
      "Running backpropagation and obtaining costs for iteration 50\n",
      "Running backpropagation and obtaining costs for iteration 51\n",
      "Running backpropagation and obtaining costs for iteration 52\n",
      "Running backpropagation and obtaining costs for iteration 53\n",
      "Running backpropagation and obtaining costs for iteration 54\n",
      "Running backpropagation and obtaining costs for iteration 55\n",
      "Running backpropagation and obtaining costs for iteration 56\n",
      "Running backpropagation and obtaining costs for iteration 57\n",
      "Running backpropagation and obtaining costs for iteration 58\n",
      "Running backpropagation and obtaining costs for iteration 59\n",
      "Running backpropagation and obtaining costs for iteration 60\n",
      "Running backpropagation and obtaining costs for iteration 61\n",
      "Running backpropagation and obtaining costs for iteration 62\n",
      "Running backpropagation and obtaining costs for iteration 63\n",
      "Running backpropagation and obtaining costs for iteration 64\n",
      "Running backpropagation and obtaining costs for iteration 65\n",
      "Running backpropagation and obtaining costs for iteration 66\n",
      "Running backpropagation and obtaining costs for iteration 67\n",
      "Running backpropagation and obtaining costs for iteration 68\n",
      "Running backpropagation and obtaining costs for iteration 69\n",
      "Running backpropagation and obtaining costs for iteration 70\n",
      "Running backpropagation and obtaining costs for iteration 71\n",
      "Running backpropagation and obtaining costs for iteration 72\n",
      "Running backpropagation and obtaining costs for iteration 73\n",
      "Running backpropagation and obtaining costs for iteration 74\n",
      "Running backpropagation and obtaining costs for iteration 75\n",
      "Running backpropagation and obtaining costs for iteration 76\n",
      "Running backpropagation and obtaining costs for iteration 77\n",
      "Running backpropagation and obtaining costs for iteration 78\n",
      "Running backpropagation and obtaining costs for iteration 79\n",
      "Running backpropagation and obtaining costs for iteration 80\n",
      "Running backpropagation and obtaining costs for iteration 81\n",
      "Running backpropagation and obtaining costs for iteration 82\n",
      "Running backpropagation and obtaining costs for iteration 83\n",
      "Running backpropagation and obtaining costs for iteration 84\n",
      "Running backpropagation and obtaining costs for iteration 85\n",
      "Running backpropagation and obtaining costs for iteration 86\n",
      "Running backpropagation and obtaining costs for iteration 87\n",
      "Running backpropagation and obtaining costs for iteration 88\n",
      "Running backpropagation and obtaining costs for iteration 89\n",
      "Running backpropagation and obtaining costs for iteration 90\n",
      "Running backpropagation and obtaining costs for iteration 91\n",
      "Running backpropagation and obtaining costs for iteration 92\n",
      "Running backpropagation and obtaining costs for iteration 93\n",
      "Running backpropagation and obtaining costs for iteration 94\n",
      "Running backpropagation and obtaining costs for iteration 95\n",
      "Running backpropagation and obtaining costs for iteration 96\n",
      "Running backpropagation and obtaining costs for iteration 97\n",
      "Running backpropagation and obtaining costs for iteration 98\n",
      "Running backpropagation and obtaining costs for iteration 99\n",
      "Running backpropagation and obtaining costs for iteration 100\n",
      "Running backpropagation and obtaining costs for iteration 101\n",
      "Running backpropagation and obtaining costs for iteration 102\n",
      "Running backpropagation and obtaining costs for iteration 103\n",
      "Running backpropagation and obtaining costs for iteration 104\n",
      "Running backpropagation and obtaining costs for iteration 105\n",
      "Running backpropagation and obtaining costs for iteration 106\n",
      "Running backpropagation and obtaining costs for iteration 107\n",
      "Running backpropagation and obtaining costs for iteration 108\n",
      "Running backpropagation and obtaining costs for iteration 109\n",
      "Running backpropagation and obtaining costs for iteration 110\n",
      "Running backpropagation and obtaining costs for iteration 111\n",
      "Running backpropagation and obtaining costs for iteration 112\n",
      "Running backpropagation and obtaining costs for iteration 113\n",
      "Running backpropagation and obtaining costs for iteration 114\n",
      "Running backpropagation and obtaining costs for iteration 115\n",
      "Running backpropagation and obtaining costs for iteration 116\n",
      "Running backpropagation and obtaining costs for iteration 117\n",
      "Running backpropagation and obtaining costs for iteration 118\n",
      "Running backpropagation and obtaining costs for iteration 119\n",
      "Running backpropagation and obtaining costs for iteration 120\n",
      "Running backpropagation and obtaining costs for iteration 121\n",
      "Running backpropagation and obtaining costs for iteration 122\n",
      "Running backpropagation and obtaining costs for iteration 123\n",
      "Running backpropagation and obtaining costs for iteration 124\n",
      "Running backpropagation and obtaining costs for iteration 125\n",
      "Running backpropagation and obtaining costs for iteration 126\n",
      "Running backpropagation and obtaining costs for iteration 127\n",
      "Running backpropagation and obtaining costs for iteration 128\n",
      "Running backpropagation and obtaining costs for iteration 129\n",
      "Running backpropagation and obtaining costs for iteration 130\n",
      "Running backpropagation and obtaining costs for iteration 131\n",
      "Running backpropagation and obtaining costs for iteration 132\n",
      "Running backpropagation and obtaining costs for iteration 133\n",
      "Running backpropagation and obtaining costs for iteration 134\n",
      "Running backpropagation and obtaining costs for iteration 135\n",
      "Running backpropagation and obtaining costs for iteration 136\n",
      "Running backpropagation and obtaining costs for iteration 137\n",
      "Running backpropagation and obtaining costs for iteration 138\n",
      "Running backpropagation and obtaining costs for iteration 139\n",
      "Running backpropagation and obtaining costs for iteration 140\n",
      "Running backpropagation and obtaining costs for iteration 141\n",
      "Running backpropagation and obtaining costs for iteration 142\n",
      "Running backpropagation and obtaining costs for iteration 143\n",
      "Running backpropagation and obtaining costs for iteration 144\n",
      "Running backpropagation and obtaining costs for iteration 145\n"
     ]
    },
    {
     "name": "stdout",
     "output_type": "stream",
     "text": [
      "Running backpropagation and obtaining costs for iteration 146\n",
      "Running backpropagation and obtaining costs for iteration 147\n",
      "Running backpropagation and obtaining costs for iteration 148\n",
      "Running backpropagation and obtaining costs for iteration 149\n",
      "Running backpropagation and obtaining costs for iteration 150\n",
      "Running backpropagation and obtaining costs for iteration 151\n",
      "Running backpropagation and obtaining costs for iteration 152\n",
      "Running backpropagation and obtaining costs for iteration 153\n",
      "Running backpropagation and obtaining costs for iteration 154\n",
      "Running backpropagation and obtaining costs for iteration 155\n",
      "Running backpropagation and obtaining costs for iteration 156\n",
      "Running backpropagation and obtaining costs for iteration 157\n",
      "Running backpropagation and obtaining costs for iteration 158\n",
      "Running backpropagation and obtaining costs for iteration 159\n",
      "Running backpropagation and obtaining costs for iteration 160\n",
      "Running backpropagation and obtaining costs for iteration 161\n",
      "Running backpropagation and obtaining costs for iteration 162\n",
      "Running backpropagation and obtaining costs for iteration 163\n",
      "Running backpropagation and obtaining costs for iteration 164\n",
      "Running backpropagation and obtaining costs for iteration 165\n",
      "Running backpropagation and obtaining costs for iteration 166\n",
      "Running backpropagation and obtaining costs for iteration 167\n",
      "Running backpropagation and obtaining costs for iteration 168\n",
      "Running backpropagation and obtaining costs for iteration 169\n",
      "Running backpropagation and obtaining costs for iteration 170\n",
      "Running backpropagation and obtaining costs for iteration 171\n",
      "Running backpropagation and obtaining costs for iteration 172\n",
      "Running backpropagation and obtaining costs for iteration 173\n",
      "Running backpropagation and obtaining costs for iteration 174\n",
      "Running backpropagation and obtaining costs for iteration 175\n",
      "Running backpropagation and obtaining costs for iteration 176\n",
      "Running backpropagation and obtaining costs for iteration 177\n",
      "Running backpropagation and obtaining costs for iteration 178\n",
      "Running backpropagation and obtaining costs for iteration 179\n",
      "Running backpropagation and obtaining costs for iteration 180\n",
      "Running backpropagation and obtaining costs for iteration 181\n",
      "Running backpropagation and obtaining costs for iteration 182\n",
      "Running backpropagation and obtaining costs for iteration 183\n",
      "Running backpropagation and obtaining costs for iteration 184\n",
      "Running backpropagation and obtaining costs for iteration 185\n",
      "Running backpropagation and obtaining costs for iteration 186\n",
      "Running backpropagation and obtaining costs for iteration 187\n",
      "Running backpropagation and obtaining costs for iteration 188\n",
      "Running backpropagation and obtaining costs for iteration 189\n",
      "Running backpropagation and obtaining costs for iteration 190\n",
      "Running backpropagation and obtaining costs for iteration 191\n",
      "Running backpropagation and obtaining costs for iteration 192\n",
      "Running backpropagation and obtaining costs for iteration 193\n",
      "Running backpropagation and obtaining costs for iteration 194\n",
      "Running backpropagation and obtaining costs for iteration 195\n",
      "Running backpropagation and obtaining costs for iteration 196\n",
      "Running backpropagation and obtaining costs for iteration 197\n",
      "Running backpropagation and obtaining costs for iteration 198\n",
      "Running backpropagation and obtaining costs for iteration 199\n",
      "Running backpropagation and obtaining costs for iteration 200\n",
      "Running backpropagation and obtaining costs for iteration 201\n",
      "Running backpropagation and obtaining costs for iteration 202\n",
      "Running backpropagation and obtaining costs for iteration 203\n",
      "Running backpropagation and obtaining costs for iteration 204\n",
      "Running backpropagation and obtaining costs for iteration 205\n",
      "Running backpropagation and obtaining costs for iteration 206\n",
      "Running backpropagation and obtaining costs for iteration 207\n",
      "Running backpropagation and obtaining costs for iteration 208\n",
      "Running backpropagation and obtaining costs for iteration 209\n",
      "Running backpropagation and obtaining costs for iteration 210\n",
      "Running backpropagation and obtaining costs for iteration 211\n",
      "Running backpropagation and obtaining costs for iteration 212\n",
      "Running backpropagation and obtaining costs for iteration 213\n",
      "Running backpropagation and obtaining costs for iteration 214\n",
      "Running backpropagation and obtaining costs for iteration 215\n",
      "Running backpropagation and obtaining costs for iteration 216\n",
      "Running backpropagation and obtaining costs for iteration 217\n",
      "Running backpropagation and obtaining costs for iteration 218\n",
      "Running backpropagation and obtaining costs for iteration 219\n",
      "Running backpropagation and obtaining costs for iteration 220\n",
      "Running backpropagation and obtaining costs for iteration 221\n",
      "Running backpropagation and obtaining costs for iteration 222\n",
      "Running backpropagation and obtaining costs for iteration 223\n",
      "Running backpropagation and obtaining costs for iteration 224\n",
      "Running backpropagation and obtaining costs for iteration 225\n",
      "Running backpropagation and obtaining costs for iteration 226\n",
      "Running backpropagation and obtaining costs for iteration 227\n",
      "Running backpropagation and obtaining costs for iteration 228\n",
      "Running backpropagation and obtaining costs for iteration 229\n",
      "Running backpropagation and obtaining costs for iteration 230\n",
      "Running backpropagation and obtaining costs for iteration 231\n",
      "Running backpropagation and obtaining costs for iteration 232\n",
      "Running backpropagation and obtaining costs for iteration 233\n",
      "Running backpropagation and obtaining costs for iteration 234\n",
      "Running backpropagation and obtaining costs for iteration 235\n",
      "Running backpropagation and obtaining costs for iteration 236\n",
      "Running backpropagation and obtaining costs for iteration 237\n",
      "Running backpropagation and obtaining costs for iteration 238\n",
      "Running backpropagation and obtaining costs for iteration 239\n",
      "Running backpropagation and obtaining costs for iteration 240\n",
      "Running backpropagation and obtaining costs for iteration 241\n",
      "Running backpropagation and obtaining costs for iteration 242\n",
      "Running backpropagation and obtaining costs for iteration 243\n",
      "Running backpropagation and obtaining costs for iteration 244\n",
      "Running backpropagation and obtaining costs for iteration 245\n",
      "Running backpropagation and obtaining costs for iteration 246\n",
      "Running backpropagation and obtaining costs for iteration 247\n",
      "Running backpropagation and obtaining costs for iteration 248\n",
      "Running backpropagation and obtaining costs for iteration 249\n",
      "Running backpropagation and obtaining costs for iteration 250\n",
      "Running backpropagation and obtaining costs for iteration 251\n",
      "Running backpropagation and obtaining costs for iteration 252\n",
      "Running backpropagation and obtaining costs for iteration 253\n",
      "Running backpropagation and obtaining costs for iteration 254\n",
      "Running backpropagation and obtaining costs for iteration 255\n",
      "Running backpropagation and obtaining costs for iteration 256\n",
      "Running backpropagation and obtaining costs for iteration 257\n",
      "Running backpropagation and obtaining costs for iteration 258\n",
      "Running backpropagation and obtaining costs for iteration 259\n",
      "Running backpropagation and obtaining costs for iteration 260\n",
      "Running backpropagation and obtaining costs for iteration 261\n",
      "Running backpropagation and obtaining costs for iteration 262\n",
      "Running backpropagation and obtaining costs for iteration 263\n",
      "Running backpropagation and obtaining costs for iteration 264\n",
      "Running backpropagation and obtaining costs for iteration 265\n",
      "Running backpropagation and obtaining costs for iteration 266\n",
      "Running backpropagation and obtaining costs for iteration 267\n",
      "Running backpropagation and obtaining costs for iteration 268\n",
      "Running backpropagation and obtaining costs for iteration 269\n",
      "Running backpropagation and obtaining costs for iteration 270\n",
      "Running backpropagation and obtaining costs for iteration 271\n",
      "Running backpropagation and obtaining costs for iteration 272\n",
      "Running backpropagation and obtaining costs for iteration 273\n",
      "Running backpropagation and obtaining costs for iteration 274\n",
      "Running backpropagation and obtaining costs for iteration 275\n",
      "Running backpropagation and obtaining costs for iteration 276\n",
      "Running backpropagation and obtaining costs for iteration 277\n",
      "Running backpropagation and obtaining costs for iteration 278\n",
      "Running backpropagation and obtaining costs for iteration 279\n",
      "Running backpropagation and obtaining costs for iteration 280\n",
      "Running backpropagation and obtaining costs for iteration 281\n",
      "Running backpropagation and obtaining costs for iteration 282\n",
      "Running backpropagation and obtaining costs for iteration 283\n",
      "Running backpropagation and obtaining costs for iteration 284\n",
      "Running backpropagation and obtaining costs for iteration 285\n",
      "Running backpropagation and obtaining costs for iteration 286\n",
      "Running backpropagation and obtaining costs for iteration 287\n",
      "Running backpropagation and obtaining costs for iteration 288\n",
      "Running backpropagation and obtaining costs for iteration 289\n",
      "Running backpropagation and obtaining costs for iteration 290\n",
      "Running backpropagation and obtaining costs for iteration 291\n",
      "Running backpropagation and obtaining costs for iteration 292\n",
      "Running backpropagation and obtaining costs for iteration 293\n",
      "Running backpropagation and obtaining costs for iteration 294\n",
      "Running backpropagation and obtaining costs for iteration 295\n",
      "Running backpropagation and obtaining costs for iteration 296\n",
      "Running backpropagation and obtaining costs for iteration 297\n"
     ]
    },
    {
     "name": "stdout",
     "output_type": "stream",
     "text": [
      "Running backpropagation and obtaining costs for iteration 298\n",
      "Running backpropagation and obtaining costs for iteration 299\n",
      "Running backpropagation and obtaining costs for iteration 300\n",
      "Running backpropagation and obtaining costs for iteration 301\n",
      "Running backpropagation and obtaining costs for iteration 302\n",
      "Running backpropagation and obtaining costs for iteration 303\n",
      "Running backpropagation and obtaining costs for iteration 304\n",
      "Running backpropagation and obtaining costs for iteration 305\n",
      "Running backpropagation and obtaining costs for iteration 306\n",
      "Running backpropagation and obtaining costs for iteration 307\n",
      "Running backpropagation and obtaining costs for iteration 308\n",
      "Running backpropagation and obtaining costs for iteration 309\n",
      "Running backpropagation and obtaining costs for iteration 310\n",
      "Running backpropagation and obtaining costs for iteration 311\n",
      "Running backpropagation and obtaining costs for iteration 312\n",
      "Running backpropagation and obtaining costs for iteration 313\n",
      "Running backpropagation and obtaining costs for iteration 314\n",
      "Running backpropagation and obtaining costs for iteration 315\n",
      "Running backpropagation and obtaining costs for iteration 316\n",
      "Running backpropagation and obtaining costs for iteration 317\n",
      "Running backpropagation and obtaining costs for iteration 318\n",
      "Running backpropagation and obtaining costs for iteration 319\n",
      "Running backpropagation and obtaining costs for iteration 320\n",
      "Running backpropagation and obtaining costs for iteration 321\n",
      "Running backpropagation and obtaining costs for iteration 322\n",
      "Running backpropagation and obtaining costs for iteration 323\n",
      "Running backpropagation and obtaining costs for iteration 324\n",
      "Running backpropagation and obtaining costs for iteration 325\n",
      "Running backpropagation and obtaining costs for iteration 326\n",
      "Running backpropagation and obtaining costs for iteration 327\n",
      "Running backpropagation and obtaining costs for iteration 328\n",
      "Running backpropagation and obtaining costs for iteration 329\n",
      "Running backpropagation and obtaining costs for iteration 330\n",
      "Running backpropagation and obtaining costs for iteration 331\n",
      "Running backpropagation and obtaining costs for iteration 332\n",
      "Running backpropagation and obtaining costs for iteration 333\n",
      "Running backpropagation and obtaining costs for iteration 334\n",
      "Running backpropagation and obtaining costs for iteration 335\n",
      "Running backpropagation and obtaining costs for iteration 336\n",
      "Running backpropagation and obtaining costs for iteration 337\n",
      "Running backpropagation and obtaining costs for iteration 338\n",
      "Running backpropagation and obtaining costs for iteration 339\n",
      "Running backpropagation and obtaining costs for iteration 340\n",
      "Running backpropagation and obtaining costs for iteration 341\n",
      "Running backpropagation and obtaining costs for iteration 342\n",
      "Running backpropagation and obtaining costs for iteration 343\n",
      "Running backpropagation and obtaining costs for iteration 344\n",
      "Running backpropagation and obtaining costs for iteration 345\n",
      "Running backpropagation and obtaining costs for iteration 346\n",
      "Running backpropagation and obtaining costs for iteration 347\n",
      "Running backpropagation and obtaining costs for iteration 348\n",
      "Running backpropagation and obtaining costs for iteration 349\n",
      "Running backpropagation and obtaining costs for iteration 350\n",
      "Running backpropagation and obtaining costs for iteration 351\n",
      "Running backpropagation and obtaining costs for iteration 352\n",
      "Running backpropagation and obtaining costs for iteration 353\n",
      "Running backpropagation and obtaining costs for iteration 354\n",
      "Running backpropagation and obtaining costs for iteration 355\n",
      "Running backpropagation and obtaining costs for iteration 356\n",
      "Running backpropagation and obtaining costs for iteration 357\n",
      "Running backpropagation and obtaining costs for iteration 358\n",
      "Running backpropagation and obtaining costs for iteration 359\n",
      "Running backpropagation and obtaining costs for iteration 360\n",
      "Running backpropagation and obtaining costs for iteration 361\n",
      "Running backpropagation and obtaining costs for iteration 362\n",
      "Running backpropagation and obtaining costs for iteration 363\n",
      "Running backpropagation and obtaining costs for iteration 364\n",
      "Running backpropagation and obtaining costs for iteration 365\n",
      "Running backpropagation and obtaining costs for iteration 366\n",
      "Running backpropagation and obtaining costs for iteration 367\n",
      "Running backpropagation and obtaining costs for iteration 368\n",
      "Running backpropagation and obtaining costs for iteration 369\n",
      "Running backpropagation and obtaining costs for iteration 370\n",
      "Running backpropagation and obtaining costs for iteration 371\n",
      "Running backpropagation and obtaining costs for iteration 372\n",
      "Running backpropagation and obtaining costs for iteration 373\n",
      "Running backpropagation and obtaining costs for iteration 374\n",
      "Running backpropagation and obtaining costs for iteration 375\n",
      "Running backpropagation and obtaining costs for iteration 376\n",
      "Running backpropagation and obtaining costs for iteration 377\n",
      "Running backpropagation and obtaining costs for iteration 378\n",
      "Running backpropagation and obtaining costs for iteration 379\n",
      "Running backpropagation and obtaining costs for iteration 380\n",
      "Running backpropagation and obtaining costs for iteration 381\n",
      "Running backpropagation and obtaining costs for iteration 382\n",
      "Running backpropagation and obtaining costs for iteration 383\n",
      "Running backpropagation and obtaining costs for iteration 384\n",
      "Running backpropagation and obtaining costs for iteration 385\n",
      "Running backpropagation and obtaining costs for iteration 386\n",
      "Running backpropagation and obtaining costs for iteration 387\n",
      "Running backpropagation and obtaining costs for iteration 388\n",
      "Running backpropagation and obtaining costs for iteration 389\n",
      "Running backpropagation and obtaining costs for iteration 390\n",
      "Running backpropagation and obtaining costs for iteration 391\n",
      "Running backpropagation and obtaining costs for iteration 392\n",
      "Running backpropagation and obtaining costs for iteration 393\n",
      "Running backpropagation and obtaining costs for iteration 394\n",
      "Running backpropagation and obtaining costs for iteration 395\n",
      "Running backpropagation and obtaining costs for iteration 396\n",
      "Running backpropagation and obtaining costs for iteration 397\n",
      "Running backpropagation and obtaining costs for iteration 398\n",
      "Running backpropagation and obtaining costs for iteration 399\n",
      "Running backpropagation and obtaining costs for iteration 400\n",
      "Running backpropagation and obtaining costs for iteration 401\n",
      "Running backpropagation and obtaining costs for iteration 402\n",
      "Running backpropagation and obtaining costs for iteration 403\n",
      "Running backpropagation and obtaining costs for iteration 404\n",
      "Running backpropagation and obtaining costs for iteration 405\n",
      "Running backpropagation and obtaining costs for iteration 406\n",
      "Running backpropagation and obtaining costs for iteration 407\n",
      "Running backpropagation and obtaining costs for iteration 408\n",
      "Running backpropagation and obtaining costs for iteration 409\n",
      "Running backpropagation and obtaining costs for iteration 410\n",
      "Running backpropagation and obtaining costs for iteration 411\n",
      "Running backpropagation and obtaining costs for iteration 412\n",
      "Running backpropagation and obtaining costs for iteration 413\n",
      "Running backpropagation and obtaining costs for iteration 414\n",
      "Running backpropagation and obtaining costs for iteration 415\n",
      "Running backpropagation and obtaining costs for iteration 416\n",
      "Running backpropagation and obtaining costs for iteration 417\n",
      "Running backpropagation and obtaining costs for iteration 418\n",
      "Running backpropagation and obtaining costs for iteration 419\n",
      "Running backpropagation and obtaining costs for iteration 420\n",
      "Running backpropagation and obtaining costs for iteration 421\n",
      "Running backpropagation and obtaining costs for iteration 422\n",
      "Running backpropagation and obtaining costs for iteration 423\n",
      "Running backpropagation and obtaining costs for iteration 424\n",
      "Running backpropagation and obtaining costs for iteration 425\n",
      "Running backpropagation and obtaining costs for iteration 426\n",
      "Running backpropagation and obtaining costs for iteration 427\n",
      "Running backpropagation and obtaining costs for iteration 428\n",
      "Running backpropagation and obtaining costs for iteration 429\n",
      "Running backpropagation and obtaining costs for iteration 430\n",
      "Running backpropagation and obtaining costs for iteration 431\n",
      "Running backpropagation and obtaining costs for iteration 432\n",
      "Running backpropagation and obtaining costs for iteration 433\n",
      "Running backpropagation and obtaining costs for iteration 434\n",
      "Running backpropagation and obtaining costs for iteration 435\n",
      "Running backpropagation and obtaining costs for iteration 436\n",
      "Running backpropagation and obtaining costs for iteration 437\n",
      "Running backpropagation and obtaining costs for iteration 438\n",
      "Running backpropagation and obtaining costs for iteration 439\n",
      "Running backpropagation and obtaining costs for iteration 440\n",
      "Running backpropagation and obtaining costs for iteration 441\n",
      "Running backpropagation and obtaining costs for iteration 442\n",
      "Running backpropagation and obtaining costs for iteration 443\n"
     ]
    },
    {
     "name": "stdout",
     "output_type": "stream",
     "text": [
      "Running backpropagation and obtaining costs for iteration 444\n",
      "Running backpropagation and obtaining costs for iteration 445\n",
      "Running backpropagation and obtaining costs for iteration 446\n",
      "Running backpropagation and obtaining costs for iteration 447\n",
      "Running backpropagation and obtaining costs for iteration 448\n",
      "Running backpropagation and obtaining costs for iteration 449\n",
      "Running backpropagation and obtaining costs for iteration 450\n",
      "Running backpropagation and obtaining costs for iteration 451\n",
      "Running backpropagation and obtaining costs for iteration 452\n",
      "Running backpropagation and obtaining costs for iteration 453\n",
      "Running backpropagation and obtaining costs for iteration 454\n",
      "Running backpropagation and obtaining costs for iteration 455\n",
      "Running backpropagation and obtaining costs for iteration 456\n",
      "Running backpropagation and obtaining costs for iteration 457\n",
      "Running backpropagation and obtaining costs for iteration 458\n",
      "Running backpropagation and obtaining costs for iteration 459\n",
      "Running backpropagation and obtaining costs for iteration 460\n",
      "Running backpropagation and obtaining costs for iteration 461\n",
      "Running backpropagation and obtaining costs for iteration 462\n",
      "Running backpropagation and obtaining costs for iteration 463\n",
      "Running backpropagation and obtaining costs for iteration 464\n",
      "Running backpropagation and obtaining costs for iteration 465\n",
      "Running backpropagation and obtaining costs for iteration 466\n",
      "Running backpropagation and obtaining costs for iteration 467\n",
      "Running backpropagation and obtaining costs for iteration 468\n",
      "Running backpropagation and obtaining costs for iteration 469\n",
      "Running backpropagation and obtaining costs for iteration 470\n",
      "Running backpropagation and obtaining costs for iteration 471\n",
      "Running backpropagation and obtaining costs for iteration 472\n",
      "Running backpropagation and obtaining costs for iteration 473\n",
      "Running backpropagation and obtaining costs for iteration 474\n",
      "Running backpropagation and obtaining costs for iteration 475\n",
      "Running backpropagation and obtaining costs for iteration 476\n",
      "Running backpropagation and obtaining costs for iteration 477\n",
      "Running backpropagation and obtaining costs for iteration 478\n",
      "Running backpropagation and obtaining costs for iteration 479\n",
      "Running backpropagation and obtaining costs for iteration 480\n",
      "Running backpropagation and obtaining costs for iteration 481\n",
      "Running backpropagation and obtaining costs for iteration 482\n",
      "Running backpropagation and obtaining costs for iteration 483\n",
      "Running backpropagation and obtaining costs for iteration 484\n",
      "Running backpropagation and obtaining costs for iteration 485\n",
      "Running backpropagation and obtaining costs for iteration 486\n",
      "Running backpropagation and obtaining costs for iteration 487\n",
      "Running backpropagation and obtaining costs for iteration 488\n",
      "Running backpropagation and obtaining costs for iteration 489\n",
      "Running backpropagation and obtaining costs for iteration 490\n",
      "Running backpropagation and obtaining costs for iteration 491\n",
      "Running backpropagation and obtaining costs for iteration 492\n",
      "Running backpropagation and obtaining costs for iteration 493\n",
      "Running backpropagation and obtaining costs for iteration 494\n",
      "Running backpropagation and obtaining costs for iteration 495\n",
      "Running backpropagation and obtaining costs for iteration 496\n",
      "Running backpropagation and obtaining costs for iteration 497\n",
      "Running backpropagation and obtaining costs for iteration 498\n",
      "Running backpropagation and obtaining costs for iteration 499\n",
      "Running backpropagation and obtaining costs for iteration 500\n"
     ]
    }
   ],
   "source": [
    "new_thetas, costs = data.stochasticGradDesc(0.01, initthetas, 500, 0.01)"
   ]
  },
  {
   "cell_type": "code",
   "execution_count": 22,
   "metadata": {
    "collapsed": true
   },
   "outputs": [],
   "source": [
    "all_costs = []"
   ]
  },
  {
   "cell_type": "code",
   "execution_count": 40,
   "metadata": {},
   "outputs": [
    {
     "name": "stdout",
     "output_type": "stream",
     "text": [
      "x shape: (50, 400)\n",
      "y shape: (50, 10)\n",
      "x shape: (50, 400)\n",
      "y shape: (50, 10)\n",
      "x shape: (50, 400)\n",
      "y shape: (50, 10)\n",
      "x shape: (50, 400)\n",
      "y shape: (50, 10)\n",
      "x shape: (50, 400)\n",
      "y shape: (50, 10)\n",
      "x shape: (50, 400)\n",
      "y shape: (50, 10)\n",
      "x shape: (50, 400)\n",
      "y shape: (50, 10)\n",
      "x shape: (50, 400)\n",
      "y shape: (50, 10)\n",
      "x shape: (50, 400)\n",
      "y shape: (50, 10)\n",
      "x shape: (50, 400)\n",
      "y shape: (50, 10)\n",
      "x shape: (50, 400)\n",
      "y shape: (50, 10)\n",
      "x shape: (50, 400)\n",
      "y shape: (50, 10)\n",
      "x shape: (50, 400)\n",
      "y shape: (50, 10)\n",
      "x shape: (50, 400)\n",
      "y shape: (50, 10)\n",
      "x shape: (50, 400)\n",
      "y shape: (50, 10)\n",
      "x shape: (50, 400)\n",
      "y shape: (50, 10)\n",
      "x shape: (50, 400)\n",
      "y shape: (50, 10)\n",
      "x shape: (50, 400)\n",
      "y shape: (50, 10)\n",
      "x shape: (50, 400)\n",
      "y shape: (50, 10)\n",
      "x shape: (50, 400)\n",
      "y shape: (50, 10)\n",
      "x shape: (50, 400)\n",
      "y shape: (50, 10)\n",
      "x shape: (50, 400)\n",
      "y shape: (50, 10)\n",
      "x shape: (50, 400)\n",
      "y shape: (50, 10)\n",
      "x shape: (50, 400)\n",
      "y shape: (50, 10)\n",
      "x shape: (50, 400)\n",
      "y shape: (50, 10)\n",
      "x shape: (50, 400)\n",
      "y shape: (50, 10)\n",
      "x shape: (50, 400)\n",
      "y shape: (50, 10)\n",
      "x shape: (50, 400)\n",
      "y shape: (50, 10)\n",
      "x shape: (50, 400)\n",
      "y shape: (50, 10)\n",
      "x shape: (50, 400)\n",
      "y shape: (50, 10)\n"
     ]
    }
   ],
   "source": [
    "for _ in range(30):\n",
    "    initthetas, costs = data.stochasticGradDesc(0.01, initthetas, 500, 0.01)\n",
    "    all_costs.append(costs)"
   ]
  },
  {
   "cell_type": "code",
   "execution_count": 51,
   "metadata": {
    "collapsed": true
   },
   "outputs": [],
   "source": [
    "all_costs = all_costs[30:]"
   ]
  },
  {
   "cell_type": "code",
   "execution_count": 57,
   "metadata": {},
   "outputs": [
    {
     "data": {
      "image/png": "[encoded data removed]",
      "text/plain": [
       "<Figure size 432x288 with 1 Axes>"
      ]
     },
     "metadata": {},
     "output_type": "display_data"
    }
   ],
   "source": [
    "plt.plot(np.concatenate(all_costs));plt.show()"
   ]
  },
  {
   "cell_type": "code",
   "execution_count": 50,
   "metadata": {},
   "outputs": [
    {
     "data": {
      "image/png": "[encoded data removed]",
      "text/plain": [
       "<Figure size 432x288 with 1 Axes>"
      ]
     },
     "metadata": {},
     "output_type": "display_data"
    }
   ],
   "source": [
    "plt.plot(all_costs[37]);plt.show()"
   ]
  },
  {
   "cell_type": "code",
   "execution_count": 24,
   "metadata": {
    "collapsed": true
   },
   "outputs": [],
   "source": [
    "_, h = data.forward1(data.x, initthetas, bias=False)"
   ]
  }
 ],
 "metadata": {
  "kernelspec": {
   "display_name": "Python 3",
   "language": "python",
   "name": "python3"
  },
  "language_info": {
   "codemirror_mode": {
    "name": "ipython",
    "version": 3
   },
   "file_extension": ".py",
   "mimetype": "text/x-python",
   "name": "python",
   "nbconvert_exporter": "python",
   "pygments_lexer": "ipython3",
   "version": "3.6.3"
  }
 },
 "nbformat": 4,
 "nbformat_minor": 2
}
