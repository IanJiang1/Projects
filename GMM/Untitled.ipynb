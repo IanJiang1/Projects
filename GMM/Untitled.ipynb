{
 "cells": [
  {
   "cell_type": "code",
   "execution_count": 1,
   "metadata": {
    "scrolled": true
   },
   "outputs": [
    {
     "name": "stderr",
     "output_type": "stream",
     "text": [
      "/home/user1/miniconda3/lib/python3.5/importlib/_bootstrap.py:222: RuntimeWarning: numpy.dtype size changed, may indicate binary incompatibility. Expected 96, got 88\n",
      "  return f(*args, **kwds)\n",
      "/home/user1/miniconda3/lib/python3.5/importlib/_bootstrap.py:222: RuntimeWarning: numpy.dtype size changed, may indicate binary incompatibility. Expected 96, got 88\n",
      "  return f(*args, **kwds)\n",
      "/home/user1/miniconda3/lib/python3.5/importlib/_bootstrap.py:222: RuntimeWarning: numpy.dtype size changed, may indicate binary incompatibility. Expected 96, got 88\n",
      "  return f(*args, **kwds)\n"
     ]
    }
   ],
   "source": [
    "import scipy.io\n",
    "import numpy as np\n",
    "import matplotlib.pyplot as plt\n",
    "from scipy.stats import multivariate_normal"
   ]
  },
  {
   "cell_type": "code",
   "execution_count": 10,
   "metadata": {
    "collapsed": true
   },
   "outputs": [],
   "source": [
    "K = 2"
   ]
  },
  {
   "cell_type": "code",
   "execution_count": 26,
   "metadata": {
    "collapsed": true
   },
   "outputs": [],
   "source": [
    "X = scipy.io.loadmat('data/Q2.mat')['X']"
   ]
  },
  {
   "cell_type": "code",
   "execution_count": 15,
   "metadata": {
    "collapsed": true
   },
   "outputs": [],
   "source": [
    "# number of vectors in X\n",
    "N, d = X.shape\n",
    "\n",
    "# construct indicator matrix (each entry corresponds to the cluster of each point in X)\n",
    "I = np.zeros((N, 1))\n",
    "\n",
    "# construct centers matrix\n",
    "C = np.zeros((K, d))\n",
    "\n",
    "# the list to record error\n",
    "Loss = []\n"
   ]
  },
  {
   "cell_type": "code",
   "execution_count": 16,
   "metadata": {
    "collapsed": true
   },
   "outputs": [],
   "source": [
    "C = X[np.random.choice(N, K, replace=False)]\n",
    "Sigmas = [np.eye(d)]*K\n",
    "weights = (1/K) * np.ones(K)"
   ]
  },
  {
   "cell_type": "code",
   "execution_count": 46,
   "metadata": {
    "scrolled": true
   },
   "outputs": [
    {
     "name": "stdout",
     "output_type": "stream",
     "text": [
      "-5702.532026292432\n"
     ]
    },
    {
     "name": "stderr",
     "output_type": "stream",
     "text": [
      "/home/user1/miniconda3/lib/python3.5/site-packages/ipykernel_launcher.py:38: DeprecationWarning: Calling np.sum(generator) is deprecated, and in the future will give a different result. Use np.sum(np.from_iter(generator)) or the python sum builtin instead.\n"
     ]
    }
   ],
   "source": [
    "#initializing multivariate normal objects:\n",
    "rv = []\n",
    "\n",
    "for k in range(K):\n",
    "    rv.append(multivariate_normal(mean=C[k],  cov=Sigmas[k]))\n",
    "\n",
    "#----------E-step---------\n",
    "\n",
    "#calculating responsiblities\n",
    "lk = np.vstack([weights[k]*rv[k].pdf(X) for k in range(K)])\n",
    "res = lk/lk.sum(axis=0)\n",
    "\n",
    "#calculating log likelihood:\n",
    "ll = (np.log(lk)*res).sum()\n",
    "print(ll)\n",
    "\n",
    "#obtaining predictions\n",
    "I = res.argmax(axis=0)\n",
    "\n",
    "#recording old values of parameters in order to calculate differences for tolerances\n",
    "C_old = C.copy()\n",
    "Sigmas_old = Sigmas\n",
    "\n",
    "#----------M-step----------\n",
    "\n",
    "#updating weights\n",
    "weights = res.mean(axis=1)\n",
    "\n",
    "#updating means\n",
    "C = np.vstack([(r*X.T).sum(axis = 1)/r.sum() for r in res])\n",
    "\n",
    "#updating covariance\n",
    "\n",
    "for k in range(K):\n",
    "    outers = np.dstack([np.outer(x - C[k], x - C[k]) for x in X])\n",
    "    Sigmas[k] = ((res[0].T * outers)/res[0].sum()).sum(axis = 2)\n",
    "    \n",
    "diff = abs(C - C_old).sum() + np.sum(abs(Sigmas[i] - Sigmas_old[i]).sum() for i in range(K))\n",
    "\n"
   ]
  },
  {
   "cell_type": "code",
   "execution_count": 1,
   "metadata": {
    "collapsed": true
   },
   "outputs": [],
   "source": [
    "import importlib as imp"
   ]
  },
  {
   "cell_type": "code",
   "execution_count": 2,
   "metadata": {
    "collapsed": true
   },
   "outputs": [],
   "source": [
    "import main"
   ]
  },
  {
   "cell_type": "code",
   "execution_count": 16,
   "metadata": {
    "scrolled": true
   },
   "outputs": [
    {
     "data": {
      "text/plain": [
       "<module 'main' from '/home/user1/Documents/Grad_school/hw/CSE-6740/hw2/HW2_start_code/code/prob2/main.py'>"
      ]
     },
     "execution_count": 16,
     "metadata": {},
     "output_type": "execute_result"
    }
   ],
   "source": [
    "imp.reload(main)"
   ]
  },
  {
   "cell_type": "code",
   "execution_count": 7,
   "metadata": {
    "scrolled": true
   },
   "outputs": [
    {
     "name": "stdout",
     "output_type": "stream",
     "text": [
      "2\n",
      "2.4028843270113516\n",
      "2.5141021062637834\n",
      "1.2208817787682822\n",
      "0.5552664451183499\n",
      "0.28301780138440774\n",
      "0.17933850062859955\n",
      "0.1313521616049712\n",
      "0.10402541351814784\n",
      "0.08575657926154528\n",
      "0.07213511293268857\n",
      "0.061290960832477315\n",
      "0.05234329809991861\n",
      "0.04482205167493175\n",
      "0.038439279603003695\n",
      "0.03299548012987252\n",
      "0.028339633397270192\n",
      "0.024351076369814095\n",
      "0.020930466399224468\n",
      "0.01799468489471684\n",
      "0.015473570493373556\n",
      "0.013307593306642718\n",
      "0.01144607778973089\n",
      "0.00984578647887624\n",
      "0.008469764176414152\n",
      "0.007286381728578983\n",
      "0.006268538231096521\n",
      "0.00539299154870021\n",
      "0.004639794032833711\n",
      "0.003991815196278614\n",
      "0.00343433671533816\n",
      "0.0029547079040162516\n",
      "0.002542051977323545\n",
      "0.00218701514307007\n",
      "0.0018815519381065182\n",
      "0.0016187413326767541\n",
      "0.0013926290244082318\n",
      "0.0011980920755807478\n",
      "0.001030722648700022\n",
      "0.0008867280922567611\n",
      "0.0007628450419710497\n",
      "0.000656265548398427\n",
      "0.0005645735324397716\n",
      "0.00048569011571703014\n",
      "0.00041782658086036983\n",
      "0.000359443893738709\n",
      "0.00030921787061832795\n",
      "0.0002660092023285543\n",
      "0.00022883765800985056\n",
      "0.0001968598857501891\n",
      "0.0001693503088844861\n",
      "0.00014568468653786137\n",
      "0.00012532596722036882\n",
      "0.0001078121158510359\n",
      "9.274563925970591e-05\n",
      "3\n",
      "4.792257335811732\n",
      "6.103596493894994\n",
      "2.193915867530867\n",
      "1.2929905535199286\n",
      "0.8374079197372359\n",
      "0.5522300752886654\n",
      "0.41729121559337656\n",
      "0.35888969692760136\n",
      "0.3115710780614309\n",
      "0.27190284519927366\n",
      "0.23136888498373592\n",
      "0.19233855902240266\n",
      "0.15840396522947178\n",
      "0.13006834260033892\n",
      "0.10650097509332226\n",
      "0.08689161397714812\n",
      "0.0706285727407952\n",
      "0.05721764688832809\n",
      "0.04622746464258479\n",
      "0.03727207625478075\n",
      "0.03000884591181094\n",
      "0.024139253393460028\n",
      "0.01940829911718102\n",
      "0.015601873610533556\n",
      "0.012846805484487328\n",
      "0.010793984762766023\n",
      "0.009072117258651285\n",
      "0.007922379715252281\n",
      "0.006960655594104012\n",
      "0.006095305456315314\n",
      "0.005321473436103202\n",
      "0.0046332094074375135\n",
      "0.004023953152354917\n",
      "0.0034868982585102015\n",
      "0.003038339190933187\n",
      "0.0026485609384938047\n",
      "0.0023028319273411674\n",
      "0.0019975205528352247\n",
      "0.0017289555104637033\n",
      "0.0014935406464068185\n",
      "0.0012878335773805483\n",
      "0.0011085965433770273\n",
      "0.0009528262629670547\n",
      "0.0008177681726746489\n",
      "0.0007009192958789268\n",
      "0.0006011930641054014\n",
      "0.0005154639267139355\n",
      "0.0004413942709809715\n",
      "0.0003775193488985418\n",
      "0.0003225313521098422\n",
      "0.0002752691287487563\n",
      "0.00023470673508037276\n",
      "0.00019994153358951494\n",
      "0.00017018233927887372\n",
      "0.00014473795655488286\n",
      "0.00012300632926395827\n",
      "0.00010446443780356973\n",
      "8.865901202281812e-05\n",
      "4\n",
      "11.924462859708072\n",
      "5.460061083975189\n",
      "1.6946896259773938\n",
      "1.0056270655804342\n",
      "0.7300903151534066\n",
      "0.5765858572077642\n",
      "0.4810001017138053\n",
      "0.40957868167852707\n",
      "0.36608171924127486\n",
      "0.330514634548551\n",
      "0.2976694577579855\n",
      "0.2667982700251237\n",
      "0.23746720189008727\n",
      "0.20962295681283796\n",
      "0.18350110084470364\n",
      "0.15943408783490498\n",
      "0.13768222012962117\n",
      "0.11835263142823804\n",
      "0.10140158573772191\n",
      "0.08667899045453581\n",
      "0.07397777473330529\n",
      "0.06317242950424923\n",
      "0.05393036973505641\n",
      "0.04601572164231328\n",
      "0.039371843173269375\n",
      "0.03366798786267354\n",
      "0.028774854151015633\n",
      "0.024581677953721515\n",
      "0.020991403456949984\n",
      "0.01791949133736602\n",
      "0.015292627423552321\n",
      "0.013047440029957405\n",
      "0.011129286512165278\n",
      "0.009491139513852054\n",
      "0.008092584818319884\n",
      "0.006898931690307426\n",
      "0.005880430417711059\n",
      "0.0050115886388476805\n",
      "0.004270576776631806\n",
      "0.0036395683159325815\n",
      "0.0031024707733668805\n",
      "0.002644241647199945\n",
      "0.00225339287242525\n",
      "0.001920087724291815\n",
      "0.001635908627375629\n",
      "0.0013936564014068106\n",
      "0.0011871769703091437\n",
      "0.0010112119962255237\n",
      "0.0008612703047972126\n",
      "0.0007335173385116106\n",
      "0.0006246802114236172\n",
      "0.0005319662413037288\n",
      "0.00045299310599593995\n",
      "0.00038572901129360626\n",
      "0.0003284414705143207\n",
      "0.0002796534831764341\n",
      "0.00023810606444217564\n",
      "0.00020272622067534635\n",
      "0.00017259959147206821\n",
      "0.00014694708723664296\n",
      "0.0001251049457151182\n",
      "0.000106507712341955\n",
      "9.06737197989213e-05\n"
     ]
    }
   ],
   "source": [
    "run main"
   ]
  },
  {
   "cell_type": "code",
   "execution_count": 4,
   "metadata": {},
   "outputs": [
    {
     "data": {
      "text/plain": [
       "[[-17176.157634097453,\n",
       "  -5823.1463097491305,\n",
       "  -5731.074138673125,\n",
       "  -5726.609445346546,\n",
       "  -5725.195829687851,\n",
       "  -5723.821260346273,\n",
       "  -5722.706245435391,\n",
       "  -5721.8000781197725,\n",
       "  -5721.009253757066,\n",
       "  -5720.277484584324,\n",
       "  -5719.580350682323,\n",
       "  -5718.909956089674,\n",
       "  -5718.26517953574,\n",
       "  -5717.647004744261,\n",
       "  -5717.056620110447,\n",
       "  -5716.494784628076,\n",
       "  -5715.961710721858,\n",
       "  -5715.45713092515,\n",
       "  -5714.980411599425,\n",
       "  -5714.530662639865,\n",
       "  -5714.106827599245,\n",
       "  -5713.707752405989,\n",
       "  -5713.332235521417,\n",
       "  -5712.979063430529,\n",
       "  -5712.647035086248,\n",
       "  -5712.334978267421,\n",
       "  -5712.0417601284225,\n",
       "  -5711.766293634344,\n",
       "  -5711.507541115488,\n",
       "  -5711.264515827427,\n",
       "  -5711.036282147299,\n",
       "  -5710.821954852094,\n",
       "  -5710.620697792397,\n",
       "  -5710.431722181063,\n",
       "  -5710.254284649893,\n",
       "  -5710.087685180646,\n",
       "  -5709.931264983834,\n",
       "  -5709.78440437561,\n",
       "  -5709.646520686918,\n",
       "  -5709.517066227598,\n",
       "  -5709.395526320166,\n",
       "  -5709.281417412341,\n",
       "  -5709.174285273377,\n",
       "  -5709.073703276561,\n",
       "  -5708.97927076816,\n",
       "  -5708.890611521849,\n",
       "  -5708.8073722766385,\n",
       "  -5708.729221355739,\n",
       "  -5708.65584736335,\n",
       "  -5708.586957956151,\n",
       "  -5708.522278686076,\n",
       "  -5708.461551910974,\n",
       "  -5708.404535769698,\n",
       "  -5708.351003218267,\n",
       "  -5708.300741123774,\n",
       "  -5708.253549412888,\n",
       "  -5708.2092402718345,\n",
       "  -5708.167637394936,\n",
       "  -5708.128575278884,\n",
       "  -5708.091898560055,\n",
       "  -5708.057461392331,\n",
       "  -5708.02512686302],\n",
       " [-17084.898478483097,\n",
       "  -6281.951898698415,\n",
       "  -6160.244402998373,\n",
       "  -6142.826091575787,\n",
       "  -6137.544642149926,\n",
       "  -6134.631172851883,\n",
       "  -6132.732256141807,\n",
       "  -6131.362157863436,\n",
       "  -6130.283061795775,\n",
       "  -6129.37380578931,\n",
       "  -6128.572468910264,\n",
       "  -6127.847111281375,\n",
       "  -6127.180770025108,\n",
       "  -6126.563895226403,\n",
       "  -6125.990602536464,\n",
       "  -6125.456842161563,\n",
       "  -6124.959512639601,\n",
       "  -6124.496033542034,\n",
       "  -6124.064138434684,\n",
       "  -6123.661772584026,\n",
       "  -6123.287040236047,\n",
       "  -6122.938175441631,\n",
       "  -6122.613524289183,\n",
       "  -6122.311532924657,\n",
       "  -6122.030738749144,\n",
       "  -6121.769763548656,\n",
       "  -6121.527307919104,\n",
       "  -6121.302146619599,\n",
       "  -6121.093124611165,\n",
       "  -6120.899153601622,\n",
       "  -6120.719208957053,\n",
       "  -6120.552326870456,\n",
       "  -6120.39760170371,\n",
       "  -6120.254183441215,\n",
       "  -6120.121275212657,\n",
       "  -6119.998130858035,\n",
       "  -6119.884052520559,\n",
       "  -6119.77838826242,\n",
       "  -6119.680529705083,\n",
       "  -6119.5899097001275,\n",
       "  -6119.506000039141,\n",
       "  -6119.42830921231,\n",
       "  -6119.356380225279,\n",
       "  -6119.289788483282,\n",
       "  -6119.228139750227,\n",
       "  -6119.171068189167,\n",
       "  -6119.118234488942,\n",
       "  -6119.069324080316,\n",
       "  -6119.024045443577,\n",
       "  -6118.982128508181,\n",
       "  -6118.943323144005,\n",
       "  -6118.907397742783,\n",
       "  -6118.874137887546,\n",
       "  -6118.843345107249,\n",
       "  -6118.814835713379,\n",
       "  -6118.788439714897,\n",
       "  -6118.76399980775,\n",
       "  -6118.741370434986,\n",
       "  -6118.720416913519,\n",
       "  -6118.70101462357,\n",
       "  -6118.683048256866,\n",
       "  -6118.6664111198625,\n",
       "  -6118.651004488262,\n",
       "  -6118.6367370094,\n",
       "  -6118.623524149118,\n",
       "  -6118.611287679987,\n",
       "  -6118.59995520792,\n",
       "  -6118.589459734361,\n",
       "  -6118.579739251436,\n",
       "  -6118.570736367643,\n",
       "  -6118.562397961772,\n",
       "  -6118.554674862965],\n",
       " [-11992.967434114757,\n",
       "  -6410.079262503576,\n",
       "  -6217.25456601857,\n",
       "  -6185.597487012945,\n",
       "  -6179.399976162167,\n",
       "  -6172.995531698385,\n",
       "  -6166.464113995593,\n",
       "  -6162.3137116107155,\n",
       "  -6160.630085990481,\n",
       "  -6160.240640171025,\n",
       "  -6160.336623227706,\n",
       "  -6160.574816265409,\n",
       "  -6160.830652041975,\n",
       "  -6161.062822119991,\n",
       "  -6161.260838497658,\n",
       "  -6161.425442500264,\n",
       "  -6161.561002235128,\n",
       "  -6161.672525710674,\n",
       "  -6161.764565396028,\n",
       "  -6161.8409111894525,\n",
       "  -6161.904596423262,\n",
       "  -6161.9580095589745,\n",
       "  -6162.003024657771,\n",
       "  -6162.041118082797,\n",
       "  -6162.073462595971,\n",
       "  -6162.100999503635,\n",
       "  -6162.124492611551,\n",
       "  -6162.14456817457,\n",
       "  -6162.161744473492,\n",
       "  -6162.17645386287,\n",
       "  -6162.18905939883,\n",
       "  -6162.199867564308]]"
      ]
     },
     "execution_count": 4,
     "metadata": {},
     "output_type": "execute_result"
    }
   ],
   "source": [
    "Losses\n",
    "\n",
    "plt.plot(Losses[0]);plt.show()\n",
    "\n",
    "plt.scatter(X[:, 0], X[:, 1])\n",
    "\n",
    "x_centre = X.mean(axis=0)\n",
    "\n",
    "distances = ((X - x_centre)**2).sum(axis = 1)\n",
    "\n",
    "max_rad = np.sqrt(distances.max())"
   ]
  },
  {
   "cell_type": "code",
   "execution_count": 100,
   "metadata": {
    "collapsed": true
   },
   "outputs": [],
   "source": [
    "for iter in range(1000):\n",
    "    x1 = x_centre[0] + max_rad*(2*(np.random.rand(1)[0] - 0.5))\n",
    "    x2 = x_centre[1] + np.random.choice([1, -1], 1)*np.sqrt(max_rad**2 - (x1 - x_centre[0])**2)\n",
    "    plt.scatter(x1, x2, c=\"red\")"
   ]
  },
  {
   "cell_type": "code",
   "execution_count": 101,
   "metadata": {},
   "outputs": [
    {
     "data": {
      "image/png": "[encoded data removed]",
      "text/plain": [
       "<matplotlib.figure.Figure at 0x7f72603cce48>"
      ]
     },
     "metadata": {},
     "output_type": "display_data"
    }
   ],
   "source": [
    "plt.show()"
   ]
  },
  {
   "cell_type": "code",
   "execution_count": 7,
   "metadata": {
    "collapsed": true
   },
   "outputs": [],
   "source": [
    "for i in Losses:\n",
    "    plt.plot(i)"
   ]
  },
  {
   "cell_type": "code",
   "execution_count": 8,
   "metadata": {},
   "outputs": [
    {
     "data": {
      "image/png": "[encoded data removed]",
      "text/plain": [
       "<matplotlib.figure.Figure at 0x7f1f96d086d8>"
      ]
     },
     "metadata": {},
     "output_type": "display_data"
    }
   ],
   "source": [
    "plt.show()"
   ]
  },
  {
   "cell_type": "code",
   "execution_count": null,
   "metadata": {
    "collapsed": true
   },
   "outputs": [],
   "source": []
  }
 ],
 "metadata": {
  "kernelspec": {
   "display_name": "Python 3",
   "language": "python",
   "name": "python3"
  },
  "language_info": {
   "codemirror_mode": {
    "name": "ipython",
    "version": 3
   },
   "file_extension": ".py",
   "mimetype": "text/x-python",
   "name": "python",
   "nbconvert_exporter": "python",
   "pygments_lexer": "ipython3",
   "version": "3.5.5"
  }
 },
 "nbformat": 4,
 "nbformat_minor": 2
}
